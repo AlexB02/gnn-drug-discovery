{
 "cells": [
  {
   "attachments": {},
   "cell_type": "markdown",
   "metadata": {},
   "source": [
    "# Import Train and Test datasets"
   ]
  },
  {
   "cell_type": "code",
   "execution_count": 1,
   "metadata": {},
   "outputs": [
    {
     "name": "stderr",
     "output_type": "stream",
     "text": [
      "Skipped loading some Tensorflow models, missing a dependency. No module named 'tensorflow'\n",
      "Skipped loading modules with pytorch-lightning dependency, missing a dependency. No module named 'pytorch_lightning'\n",
      "Skipped loading some Jax models, missing a dependency. No module named 'jax'\n"
     ]
    },
    {
     "name": "stdout",
     "output_type": "stream",
     "text": [
      "<DiskDataset X.shape: (7870,), y.shape: (7870,), w.shape: (7870,), task_names: [0]>\n"
     ]
    }
   ],
   "source": [
    "from deepchem.data import DiskDataset\n",
    "\n",
    "train = DiskDataset(\"aqsoldb_train\")\n",
    "test = DiskDataset(\"aqsoldb_test\")\n"
   ]
  },
  {
   "attachments": {},
   "cell_type": "markdown",
   "metadata": {},
   "source": [
    "# Create train and test datasets"
   ]
  },
  {
   "cell_type": "code",
   "execution_count": 2,
   "metadata": {},
   "outputs": [
    {
     "data": {
      "text/plain": [
       "AqSolDBDataset(7870)"
      ]
     },
     "execution_count": 2,
     "metadata": {},
     "output_type": "execute_result"
    }
   ],
   "source": [
    "from torch_geometric.data import Dataset\n",
    "from deepchem.data.pytorch_datasets import _TorchDiskDataset\n",
    "\n",
    "\n",
    "class AqSolDBDataset(Dataset):\n",
    "  \n",
    "  def __init__(self, deepchem_dataset: _TorchDiskDataset):\n",
    "    self.graph_list = [mol.to_pyg_graph() for mol, _, _, _ in deepchem_dataset]\n",
    "    self.labels = [y for _, y, _, _ in deepchem_dataset]\n",
    "    self.length = len(self.labels)\n",
    "    self._indices = None\n",
    "\n",
    "  def __getitem__(self, i):\n",
    "    graph = self.graph_list[i]\n",
    "    label = self.labels[i]\n",
    "    return graph, label\n",
    "  \n",
    "  def __len__(self):\n",
    "    return self.length\n",
    "  \n",
    "  def len(self):\n",
    "    return len(self)\n",
    "  \n",
    "  def get(self, idx):\n",
    "    graph = self.graph_list[idx]\n",
    "    label = self.labels[idx]\n",
    "    return graph, label\n",
    "\n",
    "train_dataset = AqSolDBDataset(train.make_pytorch_dataset())\n",
    "test_dataset = AqSolDBDataset(test.make_pytorch_dataset())\n",
    "\n",
    "train_dataset"
   ]
  },
  {
   "attachments": {},
   "cell_type": "markdown",
   "metadata": {},
   "source": [
    "# Create AqSol model"
   ]
  },
  {
   "cell_type": "code",
   "execution_count": 3,
   "metadata": {},
   "outputs": [],
   "source": [
    "import torch.nn as nn\n",
    "import torch_geometric.nn as pyg_nn\n",
    "import torch\n",
    "from torch_geometric.nn import global_add_pool\n",
    "import torch.nn.functional as F\n",
    "\n",
    "\n",
    "class AqSolModel(nn.Module):\n",
    "  def __init__(\n",
    "      self,\n",
    "      n_features,\n",
    "      hidden_channels,\n",
    "      lr=10**-3,\n",
    "      weight_decay=10**-2.5,\n",
    "      dropout=0.2\n",
    "    ):\n",
    "    super(AqSolModel, self).__init__()\n",
    "\n",
    "    self.conv1 = pyg_nn.GCNConv(n_features, hidden_channels)\n",
    "    self.conv2 = pyg_nn.GCNConv(hidden_channels, hidden_channels)\n",
    "    self.conv3 = pyg_nn.GCNConv(hidden_channels, int(hidden_channels / 2))\n",
    "    \n",
    "    self.lin = nn.Linear(int(hidden_channels / 2), int(hidden_channels / 2))\n",
    "    self.lin2 = nn.Linear(int(hidden_channels / 2), 1)\n",
    "    \n",
    "    self.loss = nn.MSELoss()\n",
    "    self.optimizer = torch.optim.Adam(self.parameters(), lr=lr, weight_decay=weight_decay)\n",
    "    self.dropout = dropout\n",
    "\n",
    "  def forward(self, mol):\n",
    "    mol_x, mol_edge_index = mol.x, mol.edge_index\n",
    "    \n",
    "    mol_x = self.conv1(mol_x, mol_edge_index)\n",
    "    mol_x = mol_x.relu()\n",
    "    mol_x = self.conv2(mol_x, mol_edge_index)\n",
    "    mol_x = mol_x.relu()\n",
    "    mol_x = self.conv3(mol_x, mol_edge_index)\n",
    "    mol_x = mol_x.relu()\n",
    "\n",
    "    mol_x = global_add_pool(mol_x, mol.batch)\n",
    "\n",
    "    mol_x = F.dropout(mol_x, p=self.dropout, training=self.training)\n",
    "\n",
    "    mol_x = self.lin(mol_x)\n",
    "    mol_x.relu()\n",
    "    mol_x = self.lin2(mol_x)\n",
    "    return mol_x"
   ]
  },
  {
   "attachments": {},
   "cell_type": "markdown",
   "metadata": {},
   "source": [
    "# Create model and train"
   ]
  },
  {
   "cell_type": "code",
   "execution_count": null,
   "metadata": {},
   "outputs": [],
   "source": [
    "from torch_geometric.loader import DataLoader\n",
    "import math\n",
    "import numpy as np\n",
    "from tqdm import tqdm\n",
    "\n",
    "\n",
    "model = AqSolModel(30, 128)\n",
    "\n",
    "batch_size = min(len(train_dataset), 64)\n",
    "num_epochs = 50\n",
    "num_batches = math.ceil(len(train_dataset) / batch_size)\n",
    "losses = np.zeros(num_epochs)\n",
    "mean_loss = 0\n",
    "\n",
    "model.train()\n",
    "\n",
    "epoch_iter = range(num_epochs)\n",
    "\n",
    "for epoch in epoch_iter:\n",
    "  # print(\"Epoch \" + str(epoch + 1) + \" of \" + str(num_epochs))\n",
    "  model.optimizer.zero_grad()\n",
    "  epoch_loss = 0\n",
    "  for i, batch in enumerate(DataLoader(train_dataset, batch_size=batch_size)):\n",
    "    graphs, labels = batch\n",
    "    pred = model(graphs)\n",
    "    actual = labels.reshape((len(labels), 1))\n",
    "    # print(pred, actual)\n",
    "    loss = model.loss(pred, actual)\n",
    "    # print(loss.item())\n",
    "    epoch_loss += loss.item()\n",
    "    loss.backward()\n",
    "    model.optimizer.step()\n",
    "  losses[epoch] = epoch_loss / num_batches\n",
    "  mean_loss += losses[epoch]\n",
    "  print(\"loss: \" + str(epoch_loss))\n"
   ]
  },
  {
   "attachments": {},
   "cell_type": "markdown",
   "metadata": {},
   "source": [
    "# Validate with test set"
   ]
  },
  {
   "cell_type": "code",
   "execution_count": null,
   "metadata": {},
   "outputs": [],
   "source": [
    "from sklearn.metrics import mean_squared_error, mean_absolute_error\n",
    "\n",
    "model.eval()\n",
    "preds = np.zeros((len(test)))\n",
    "for i, (x_test, y_test) in enumerate(zip(test.X, test.y)):\n",
    "    pred = model(x_test.to_pyg_graph()).detach().numpy()\n",
    "    preds[i] = pred\n",
    "\n",
    "print(preds, test.y)\n",
    "print(mean_squared_error(test.y, preds))\n",
    "print(mean_absolute_error(test.y, preds))\n",
    "\n",
    "from matplotlib import pyplot as pyt\n",
    "\n",
    "pyt.hist([preds, test.y], label=[\"Prediction\", \"Actual\"]);\n",
    "pyt.legend()"
   ]
  },
  {
   "attachments": {},
   "cell_type": "markdown",
   "metadata": {},
   "source": [
    "# Validate against train"
   ]
  },
  {
   "cell_type": "code",
   "execution_count": null,
   "metadata": {},
   "outputs": [],
   "source": [
    "from sklearn.metrics import mean_squared_error, mean_absolute_error\n",
    "\n",
    "model.eval()\n",
    "preds = np.zeros((len(train)))\n",
    "for i, (x_test, y_test) in enumerate(zip(train.X, train.y)):\n",
    "    pred = model(x_test.to_pyg_graph()).detach().numpy()\n",
    "    preds[i] = pred\n",
    "\n",
    "print(preds, train.y)\n",
    "print(mean_squared_error(train.y, preds))\n",
    "print(mean_absolute_error(train.y, preds))"
   ]
  },
  {
   "cell_type": "code",
   "execution_count": null,
   "metadata": {},
   "outputs": [],
   "source": [
    "from matplotlib import pyplot as pyt\n",
    "\n",
    "pyt.hist([preds, train.y], label=[\"Prediction\", \"Actual\"]);\n",
    "pyt.legend()"
   ]
  },
  {
   "attachments": {},
   "cell_type": "markdown",
   "metadata": {},
   "source": [
    "# Hyperparameter Sweep"
   ]
  },
  {
   "cell_type": "code",
   "execution_count": 6,
   "metadata": {},
   "outputs": [],
   "source": [
    "import wandb\n",
    "from torch_geometric.loader import DataLoader\n",
    "\n",
    "\n",
    "class Trainer:\n",
    "  \n",
    "  def __init__(self, model, dataset, batch_size):\n",
    "    self.model = model\n",
    "    self.dataset = dataset\n",
    "    self.batch_size = batch_size\n",
    "    \n",
    "    self.mean_loss = 0\n",
    "    self.run_epochs = 0\n",
    "    \n",
    "  def train_one_epoch(self):\n",
    "    self.model.optimizer.zero_grad()\n",
    "    epoch_loss = 0\n",
    "    for i, batch in enumerate(DataLoader(self.dataset, batch_size=self.batch_size)):\n",
    "      graphs, labels = batch\n",
    "      pred = self.model(graphs)\n",
    "      actual = labels.reshape((len(labels), 1))\n",
    "      loss = self.model.loss(pred, actual)\n",
    "      epoch_loss += loss.item()\n",
    "      loss.backward()\n",
    "      self.model.optimizer.step()\n",
    "    self.mean_loss += epoch_loss\n",
    "    print(\"loss: \" + str(epoch_loss))\n",
    "    return epoch_loss\n",
    "    \n",
    "  def run(self, num_epochs):\n",
    "    epoch_loss = 0\n",
    "    for _ in range(num_epochs):\n",
    "      epoch_loss = self.train_one_epoch()\n",
    "    wandb.log({\"mse\": epoch_loss})\n"
   ]
  },
  {
   "cell_type": "code",
   "execution_count": null,
   "metadata": {},
   "outputs": [],
   "source": [
    "from torch_geometric.loader import DataLoader\n",
    "import math\n",
    "import numpy as np\n",
    "from tqdm import tqdm\n",
    "\n",
    "\n",
    "model = AqSolModel(30, 128)\n",
    "\n",
    "batch_size = min(len(train_dataset), 64)\n",
    "num_epochs = 10\n",
    "num_batches = math.ceil(len(train_dataset) / batch_size)\n",
    "losses = np.zeros(num_epochs)\n",
    "mean_loss = 0\n",
    "\n",
    "wandb.init(\n",
    "    # set the wandb project where this run will be logged\n",
    "    project=\"SolubilityPredictor\",\n",
    "    \n",
    "    # track hyperparameters and run metadata\n",
    "    config={\n",
    "      \"learning_rate\": 10**-2,\n",
    "      \"architecture\": \"ConvGNN\",\n",
    "      \"epochs\": num_epochs,\n",
    "    }\n",
    ")\n",
    "\n",
    "model.train()\n",
    "\n",
    "epoch_iter = range(num_epochs)\n",
    "\n",
    "for epoch in epoch_iter:\n",
    "  # print(\"Epoch \" + str(epoch + 1) + \" of \" + str(num_epochs))\n",
    "  model.optimizer.zero_grad()\n",
    "  epoch_loss = 0\n",
    "  for i, batch in enumerate(DataLoader(train_dataset, batch_size=batch_size)):\n",
    "    graphs, labels = batch\n",
    "    pred = model(graphs)\n",
    "    actual = labels.reshape((len(labels), 1))\n",
    "    # print(pred, actual)\n",
    "    loss = model.loss(pred, actual)\n",
    "    # print(loss.item())\n",
    "    epoch_loss += loss.item()\n",
    "    loss.backward()\n",
    "    model.optimizer.step()\n",
    "  losses[epoch] = epoch_loss / num_batches\n",
    "  mean_loss += losses[epoch]\n",
    "  print(\"loss: \" + str(epoch_loss))\n",
    "  wandb.log({\"loss\": epoch_loss})\n",
    "\n",
    "\n",
    "wandb.finish()"
   ]
  },
  {
   "cell_type": "code",
   "execution_count": 8,
   "metadata": {},
   "outputs": [
    {
     "name": "stdout",
     "output_type": "stream",
     "text": [
      "Create sweep with ID: 5d4kipr4\n",
      "Sweep URL: https://wandb.ai/alexb02/SolubilityPredictor/sweeps/5d4kipr4\n",
      "<IPython.core.display.HTML object>\n",
      "VBox(children=(Label(value='0.022 MB of 0.022 MB uploaded (0.000 MB deduped)\\r'), FloatProgress(value=1.0, max=1.0)))\n",
      "<IPython.core.display.HTML object>\n",
      "<IPython.core.display.HTML object>\n"
     ]
    },
    {
     "name": "stderr",
     "output_type": "stream",
     "text": [
      "\u001b[34m\u001b[1mwandb\u001b[0m: Agent Starting Run: oxo9th0s with config:\n",
      "\u001b[34m\u001b[1mwandb\u001b[0m: \tbatch_size: 113\n",
      "\u001b[34m\u001b[1mwandb\u001b[0m: \thidden_channels: 116\n",
      "\u001b[34m\u001b[1mwandb\u001b[0m: \tlr: 0.0031676241864073535\n",
      "\u001b[34m\u001b[1mwandb\u001b[0m: \tnum_epochs: 6\n",
      "\u001b[34m\u001b[1mwandb\u001b[0m: \tweight_decay: 1.6646060646142023e-06\n"
     ]
    },
    {
     "data": {
      "text/html": [
       "Tracking run with wandb version 0.15.2"
      ],
      "text/plain": [
       "<IPython.core.display.HTML object>"
      ]
     },
     "metadata": {},
     "output_type": "display_data"
    },
    {
     "data": {
      "text/html": [
       "Run data is saved locally in <code>/Users/alex/University/Year_3/deepchem/aqsoldb/wandb/run-20230515_190452-oxo9th0s</code>"
      ],
      "text/plain": [
       "<IPython.core.display.HTML object>"
      ]
     },
     "metadata": {},
     "output_type": "display_data"
    },
    {
     "data": {
      "text/html": [
       "Syncing run <strong><a href='https://wandb.ai/alexb02/SolubilityPredictor/runs/oxo9th0s' target=\"_blank\">restful-sweep-1</a></strong> to <a href='https://wandb.ai/alexb02/SolubilityPredictor' target=\"_blank\">Weights & Biases</a> (<a href='https://wandb.me/run' target=\"_blank\">docs</a>)<br/>Sweep page: <a href='https://wandb.ai/alexb02/SolubilityPredictor/sweeps/5d4kipr4' target=\"_blank\">https://wandb.ai/alexb02/SolubilityPredictor/sweeps/5d4kipr4</a>"
      ],
      "text/plain": [
       "<IPython.core.display.HTML object>"
      ]
     },
     "metadata": {},
     "output_type": "display_data"
    },
    {
     "data": {
      "text/html": [
       " View project at <a href='https://wandb.ai/alexb02/SolubilityPredictor' target=\"_blank\">https://wandb.ai/alexb02/SolubilityPredictor</a>"
      ],
      "text/plain": [
       "<IPython.core.display.HTML object>"
      ]
     },
     "metadata": {},
     "output_type": "display_data"
    },
    {
     "data": {
      "text/html": [
       " View sweep at <a href='https://wandb.ai/alexb02/SolubilityPredictor/sweeps/5d4kipr4' target=\"_blank\">https://wandb.ai/alexb02/SolubilityPredictor/sweeps/5d4kipr4</a>"
      ],
      "text/plain": [
       "<IPython.core.display.HTML object>"
      ]
     },
     "metadata": {},
     "output_type": "display_data"
    },
    {
     "data": {
      "text/html": [
       " View run at <a href='https://wandb.ai/alexb02/SolubilityPredictor/runs/oxo9th0s' target=\"_blank\">https://wandb.ai/alexb02/SolubilityPredictor/runs/oxo9th0s</a>"
      ],
      "text/plain": [
       "<IPython.core.display.HTML object>"
      ]
     },
     "metadata": {},
     "output_type": "display_data"
    },
    {
     "name": "stdout",
     "output_type": "stream",
     "text": [
      "loss: 27.930533476173878\n",
      "loss: 11.686980627477169\n",
      "loss: 6.548539321869612\n",
      "loss: 3.1140586379915476\n",
      "loss: 10.998607411980629\n",
      "loss: 9.385794211179018\n"
     ]
    },
    {
     "data": {
      "text/html": [
       "Waiting for W&B process to finish... <strong style=\"color:green\">(success).</strong>"
      ],
      "text/plain": [
       "<IPython.core.display.HTML object>"
      ]
     },
     "metadata": {},
     "output_type": "display_data"
    },
    {
     "data": {
      "text/html": [
       "<style>\n",
       "    table.wandb td:nth-child(1) { padding: 0 10px; text-align: left ; width: auto;} td:nth-child(2) {text-align: left ; width: 100%}\n",
       "    .wandb-row { display: flex; flex-direction: row; flex-wrap: wrap; justify-content: flex-start; width: 100% }\n",
       "    .wandb-col { display: flex; flex-direction: column; flex-basis: 100%; flex: 1; padding: 10px; }\n",
       "    </style>\n",
       "<div class=\"wandb-row\"><div class=\"wandb-col\"><h3>Run history:</h3><br/><table class=\"wandb\"><tr><td>mse</td><td>▁</td></tr></table><br/></div><div class=\"wandb-col\"><h3>Run summary:</h3><br/><table class=\"wandb\"><tr><td>mse</td><td>9.38579</td></tr></table><br/></div></div>"
      ],
      "text/plain": [
       "<IPython.core.display.HTML object>"
      ]
     },
     "metadata": {},
     "output_type": "display_data"
    },
    {
     "data": {
      "text/html": [
       " View run <strong style=\"color:#cdcd00\">restful-sweep-1</strong> at: <a href='https://wandb.ai/alexb02/SolubilityPredictor/runs/oxo9th0s' target=\"_blank\">https://wandb.ai/alexb02/SolubilityPredictor/runs/oxo9th0s</a><br/>Synced 6 W&B file(s), 0 media file(s), 0 artifact file(s) and 0 other file(s)"
      ],
      "text/plain": [
       "<IPython.core.display.HTML object>"
      ]
     },
     "metadata": {},
     "output_type": "display_data"
    },
    {
     "data": {
      "text/html": [
       "Find logs at: <code>./wandb/run-20230515_190452-oxo9th0s/logs</code>"
      ],
      "text/plain": [
       "<IPython.core.display.HTML object>"
      ]
     },
     "metadata": {},
     "output_type": "display_data"
    },
    {
     "name": "stderr",
     "output_type": "stream",
     "text": [
      "\u001b[34m\u001b[1mwandb\u001b[0m: Sweep Agent: Waiting for job.\n",
      "\u001b[34m\u001b[1mwandb\u001b[0m: Job received.\n",
      "\u001b[34m\u001b[1mwandb\u001b[0m: Agent Starting Run: 7fhkqvjp with config:\n",
      "\u001b[34m\u001b[1mwandb\u001b[0m: \tbatch_size: 95\n",
      "\u001b[34m\u001b[1mwandb\u001b[0m: \thidden_channels: 211\n",
      "\u001b[34m\u001b[1mwandb\u001b[0m: \tlr: 0.040101871318269235\n",
      "\u001b[34m\u001b[1mwandb\u001b[0m: \tnum_epochs: 2\n",
      "\u001b[34m\u001b[1mwandb\u001b[0m: \tweight_decay: 3.392825869283121e-06\n"
     ]
    },
    {
     "data": {
      "text/html": [
       "Tracking run with wandb version 0.15.2"
      ],
      "text/plain": [
       "<IPython.core.display.HTML object>"
      ]
     },
     "metadata": {},
     "output_type": "display_data"
    },
    {
     "data": {
      "text/html": [
       "Run data is saved locally in <code>/Users/alex/University/Year_3/deepchem/aqsoldb/wandb/run-20230515_190538-7fhkqvjp</code>"
      ],
      "text/plain": [
       "<IPython.core.display.HTML object>"
      ]
     },
     "metadata": {},
     "output_type": "display_data"
    },
    {
     "data": {
      "text/html": [
       "Syncing run <strong><a href='https://wandb.ai/alexb02/SolubilityPredictor/runs/7fhkqvjp' target=\"_blank\">bumbling-sweep-2</a></strong> to <a href='https://wandb.ai/alexb02/SolubilityPredictor' target=\"_blank\">Weights & Biases</a> (<a href='https://wandb.me/run' target=\"_blank\">docs</a>)<br/>Sweep page: <a href='https://wandb.ai/alexb02/SolubilityPredictor/sweeps/5d4kipr4' target=\"_blank\">https://wandb.ai/alexb02/SolubilityPredictor/sweeps/5d4kipr4</a>"
      ],
      "text/plain": [
       "<IPython.core.display.HTML object>"
      ]
     },
     "metadata": {},
     "output_type": "display_data"
    },
    {
     "data": {
      "text/html": [
       " View project at <a href='https://wandb.ai/alexb02/SolubilityPredictor' target=\"_blank\">https://wandb.ai/alexb02/SolubilityPredictor</a>"
      ],
      "text/plain": [
       "<IPython.core.display.HTML object>"
      ]
     },
     "metadata": {},
     "output_type": "display_data"
    },
    {
     "data": {
      "text/html": [
       " View sweep at <a href='https://wandb.ai/alexb02/SolubilityPredictor/sweeps/5d4kipr4' target=\"_blank\">https://wandb.ai/alexb02/SolubilityPredictor/sweeps/5d4kipr4</a>"
      ],
      "text/plain": [
       "<IPython.core.display.HTML object>"
      ]
     },
     "metadata": {},
     "output_type": "display_data"
    },
    {
     "data": {
      "text/html": [
       " View run at <a href='https://wandb.ai/alexb02/SolubilityPredictor/runs/7fhkqvjp' target=\"_blank\">https://wandb.ai/alexb02/SolubilityPredictor/runs/7fhkqvjp</a>"
      ],
      "text/plain": [
       "<IPython.core.display.HTML object>"
      ]
     },
     "metadata": {},
     "output_type": "display_data"
    },
    {
     "name": "stdout",
     "output_type": "stream",
     "text": [
      "loss: 2055631.0120208263\n",
      "loss: 1510492.9855852127\n"
     ]
    },
    {
     "data": {
      "text/html": [
       "Waiting for W&B process to finish... <strong style=\"color:green\">(success).</strong>"
      ],
      "text/plain": [
       "<IPython.core.display.HTML object>"
      ]
     },
     "metadata": {},
     "output_type": "display_data"
    },
    {
     "data": {
      "text/html": [
       "<style>\n",
       "    table.wandb td:nth-child(1) { padding: 0 10px; text-align: left ; width: auto;} td:nth-child(2) {text-align: left ; width: 100%}\n",
       "    .wandb-row { display: flex; flex-direction: row; flex-wrap: wrap; justify-content: flex-start; width: 100% }\n",
       "    .wandb-col { display: flex; flex-direction: column; flex-basis: 100%; flex: 1; padding: 10px; }\n",
       "    </style>\n",
       "<div class=\"wandb-row\"><div class=\"wandb-col\"><h3>Run history:</h3><br/><table class=\"wandb\"><tr><td>mse</td><td>▁</td></tr></table><br/></div><div class=\"wandb-col\"><h3>Run summary:</h3><br/><table class=\"wandb\"><tr><td>mse</td><td>1510492.98559</td></tr></table><br/></div></div>"
      ],
      "text/plain": [
       "<IPython.core.display.HTML object>"
      ]
     },
     "metadata": {},
     "output_type": "display_data"
    },
    {
     "data": {
      "text/html": [
       " View run <strong style=\"color:#cdcd00\">bumbling-sweep-2</strong> at: <a href='https://wandb.ai/alexb02/SolubilityPredictor/runs/7fhkqvjp' target=\"_blank\">https://wandb.ai/alexb02/SolubilityPredictor/runs/7fhkqvjp</a><br/>Synced 6 W&B file(s), 0 media file(s), 0 artifact file(s) and 0 other file(s)"
      ],
      "text/plain": [
       "<IPython.core.display.HTML object>"
      ]
     },
     "metadata": {},
     "output_type": "display_data"
    },
    {
     "data": {
      "text/html": [
       "Find logs at: <code>./wandb/run-20230515_190538-7fhkqvjp/logs</code>"
      ],
      "text/plain": [
       "<IPython.core.display.HTML object>"
      ]
     },
     "metadata": {},
     "output_type": "display_data"
    },
    {
     "name": "stderr",
     "output_type": "stream",
     "text": [
      "\u001b[34m\u001b[1mwandb\u001b[0m: Agent Starting Run: m1uhdck4 with config:\n",
      "\u001b[34m\u001b[1mwandb\u001b[0m: \tbatch_size: 109\n",
      "\u001b[34m\u001b[1mwandb\u001b[0m: \thidden_channels: 162\n",
      "\u001b[34m\u001b[1mwandb\u001b[0m: \tlr: 0.01053808620683595\n",
      "\u001b[34m\u001b[1mwandb\u001b[0m: \tnum_epochs: 6\n",
      "\u001b[34m\u001b[1mwandb\u001b[0m: \tweight_decay: 1.8582413567087952e-06\n"
     ]
    },
    {
     "data": {
      "text/html": [
       "Tracking run with wandb version 0.15.2"
      ],
      "text/plain": [
       "<IPython.core.display.HTML object>"
      ]
     },
     "metadata": {},
     "output_type": "display_data"
    },
    {
     "data": {
      "text/html": [
       "Run data is saved locally in <code>/Users/alex/University/Year_3/deepchem/aqsoldb/wandb/run-20230515_190611-m1uhdck4</code>"
      ],
      "text/plain": [
       "<IPython.core.display.HTML object>"
      ]
     },
     "metadata": {},
     "output_type": "display_data"
    },
    {
     "data": {
      "text/html": [
       "Syncing run <strong><a href='https://wandb.ai/alexb02/SolubilityPredictor/runs/m1uhdck4' target=\"_blank\">eternal-sweep-3</a></strong> to <a href='https://wandb.ai/alexb02/SolubilityPredictor' target=\"_blank\">Weights & Biases</a> (<a href='https://wandb.me/run' target=\"_blank\">docs</a>)<br/>Sweep page: <a href='https://wandb.ai/alexb02/SolubilityPredictor/sweeps/5d4kipr4' target=\"_blank\">https://wandb.ai/alexb02/SolubilityPredictor/sweeps/5d4kipr4</a>"
      ],
      "text/plain": [
       "<IPython.core.display.HTML object>"
      ]
     },
     "metadata": {},
     "output_type": "display_data"
    },
    {
     "data": {
      "text/html": [
       " View project at <a href='https://wandb.ai/alexb02/SolubilityPredictor' target=\"_blank\">https://wandb.ai/alexb02/SolubilityPredictor</a>"
      ],
      "text/plain": [
       "<IPython.core.display.HTML object>"
      ]
     },
     "metadata": {},
     "output_type": "display_data"
    },
    {
     "data": {
      "text/html": [
       " View sweep at <a href='https://wandb.ai/alexb02/SolubilityPredictor/sweeps/5d4kipr4' target=\"_blank\">https://wandb.ai/alexb02/SolubilityPredictor/sweeps/5d4kipr4</a>"
      ],
      "text/plain": [
       "<IPython.core.display.HTML object>"
      ]
     },
     "metadata": {},
     "output_type": "display_data"
    },
    {
     "data": {
      "text/html": [
       " View run at <a href='https://wandb.ai/alexb02/SolubilityPredictor/runs/m1uhdck4' target=\"_blank\">https://wandb.ai/alexb02/SolubilityPredictor/runs/m1uhdck4</a>"
      ],
      "text/plain": [
       "<IPython.core.display.HTML object>"
      ]
     },
     "metadata": {},
     "output_type": "display_data"
    },
    {
     "name": "stdout",
     "output_type": "stream",
     "text": [
      "loss: 450.2283548489213\n",
      "loss: 1236.7111067809165\n",
      "loss: 950.5597934592515\n",
      "loss: 374.46377059072256\n",
      "loss: 38.10427113994956\n",
      "loss: 99.83652552217245\n"
     ]
    },
    {
     "data": {
      "text/html": [
       "Waiting for W&B process to finish... <strong style=\"color:green\">(success).</strong>"
      ],
      "text/plain": [
       "<IPython.core.display.HTML object>"
      ]
     },
     "metadata": {},
     "output_type": "display_data"
    },
    {
     "data": {
      "application/vnd.jupyter.widget-view+json": {
       "model_id": "be22c7232d58439fadaff32111c473dd",
       "version_major": 2,
       "version_minor": 0
      },
      "text/plain": [
       "VBox(children=(Label(value='0.001 MB of 0.001 MB uploaded (0.000 MB deduped)\\r'), FloatProgress(value=1.0, max…"
      ]
     },
     "metadata": {},
     "output_type": "display_data"
    },
    {
     "data": {
      "text/html": [
       "<style>\n",
       "    table.wandb td:nth-child(1) { padding: 0 10px; text-align: left ; width: auto;} td:nth-child(2) {text-align: left ; width: 100%}\n",
       "    .wandb-row { display: flex; flex-direction: row; flex-wrap: wrap; justify-content: flex-start; width: 100% }\n",
       "    .wandb-col { display: flex; flex-direction: column; flex-basis: 100%; flex: 1; padding: 10px; }\n",
       "    </style>\n",
       "<div class=\"wandb-row\"><div class=\"wandb-col\"><h3>Run history:</h3><br/><table class=\"wandb\"><tr><td>mse</td><td>▁</td></tr></table><br/></div><div class=\"wandb-col\"><h3>Run summary:</h3><br/><table class=\"wandb\"><tr><td>mse</td><td>99.83653</td></tr></table><br/></div></div>"
      ],
      "text/plain": [
       "<IPython.core.display.HTML object>"
      ]
     },
     "metadata": {},
     "output_type": "display_data"
    },
    {
     "data": {
      "text/html": [
       " View run <strong style=\"color:#cdcd00\">eternal-sweep-3</strong> at: <a href='https://wandb.ai/alexb02/SolubilityPredictor/runs/m1uhdck4' target=\"_blank\">https://wandb.ai/alexb02/SolubilityPredictor/runs/m1uhdck4</a><br/>Synced 6 W&B file(s), 0 media file(s), 0 artifact file(s) and 0 other file(s)"
      ],
      "text/plain": [
       "<IPython.core.display.HTML object>"
      ]
     },
     "metadata": {},
     "output_type": "display_data"
    },
    {
     "data": {
      "text/html": [
       "Find logs at: <code>./wandb/run-20230515_190611-m1uhdck4/logs</code>"
      ],
      "text/plain": [
       "<IPython.core.display.HTML object>"
      ]
     },
     "metadata": {},
     "output_type": "display_data"
    },
    {
     "name": "stderr",
     "output_type": "stream",
     "text": [
      "\u001b[34m\u001b[1mwandb\u001b[0m: Sweep Agent: Waiting for job.\n",
      "\u001b[34m\u001b[1mwandb\u001b[0m: Job received.\n",
      "\u001b[34m\u001b[1mwandb\u001b[0m: Agent Starting Run: yngz29d8 with config:\n",
      "\u001b[34m\u001b[1mwandb\u001b[0m: \tbatch_size: 100\n",
      "\u001b[34m\u001b[1mwandb\u001b[0m: \thidden_channels: 178\n",
      "\u001b[34m\u001b[1mwandb\u001b[0m: \tlr: 0.0010457027203548805\n",
      "\u001b[34m\u001b[1mwandb\u001b[0m: \tnum_epochs: 10\n",
      "\u001b[34m\u001b[1mwandb\u001b[0m: \tweight_decay: 2.0832709551664566e-06\n"
     ]
    },
    {
     "data": {
      "text/html": [
       "Tracking run with wandb version 0.15.2"
      ],
      "text/plain": [
       "<IPython.core.display.HTML object>"
      ]
     },
     "metadata": {},
     "output_type": "display_data"
    },
    {
     "data": {
      "text/html": [
       "Run data is saved locally in <code>/Users/alex/University/Year_3/deepchem/aqsoldb/wandb/run-20230515_190651-yngz29d8</code>"
      ],
      "text/plain": [
       "<IPython.core.display.HTML object>"
      ]
     },
     "metadata": {},
     "output_type": "display_data"
    },
    {
     "data": {
      "text/html": [
       "Syncing run <strong><a href='https://wandb.ai/alexb02/SolubilityPredictor/runs/yngz29d8' target=\"_blank\">lively-sweep-4</a></strong> to <a href='https://wandb.ai/alexb02/SolubilityPredictor' target=\"_blank\">Weights & Biases</a> (<a href='https://wandb.me/run' target=\"_blank\">docs</a>)<br/>Sweep page: <a href='https://wandb.ai/alexb02/SolubilityPredictor/sweeps/5d4kipr4' target=\"_blank\">https://wandb.ai/alexb02/SolubilityPredictor/sweeps/5d4kipr4</a>"
      ],
      "text/plain": [
       "<IPython.core.display.HTML object>"
      ]
     },
     "metadata": {},
     "output_type": "display_data"
    },
    {
     "data": {
      "text/html": [
       " View project at <a href='https://wandb.ai/alexb02/SolubilityPredictor' target=\"_blank\">https://wandb.ai/alexb02/SolubilityPredictor</a>"
      ],
      "text/plain": [
       "<IPython.core.display.HTML object>"
      ]
     },
     "metadata": {},
     "output_type": "display_data"
    },
    {
     "data": {
      "text/html": [
       " View sweep at <a href='https://wandb.ai/alexb02/SolubilityPredictor/sweeps/5d4kipr4' target=\"_blank\">https://wandb.ai/alexb02/SolubilityPredictor/sweeps/5d4kipr4</a>"
      ],
      "text/plain": [
       "<IPython.core.display.HTML object>"
      ]
     },
     "metadata": {},
     "output_type": "display_data"
    },
    {
     "data": {
      "text/html": [
       " View run at <a href='https://wandb.ai/alexb02/SolubilityPredictor/runs/yngz29d8' target=\"_blank\">https://wandb.ai/alexb02/SolubilityPredictor/runs/yngz29d8</a>"
      ],
      "text/plain": [
       "<IPython.core.display.HTML object>"
      ]
     },
     "metadata": {},
     "output_type": "display_data"
    },
    {
     "name": "stdout",
     "output_type": "stream",
     "text": [
      "loss: 33.79737573862076\n",
      "loss: 9.003723001107574\n",
      "loss: 3.569805594161153\n",
      "loss: 2.231181161478162\n",
      "loss: 2.3150185886770487\n",
      "loss: 2.6742548514157534\n",
      "loss: 3.3498885985463858\n",
      "loss: 4.4622168354690075\n",
      "loss: 5.339343395084143\n",
      "loss: 7.036055373027921\n"
     ]
    },
    {
     "data": {
      "text/html": [
       "Waiting for W&B process to finish... <strong style=\"color:green\">(success).</strong>"
      ],
      "text/plain": [
       "<IPython.core.display.HTML object>"
      ]
     },
     "metadata": {},
     "output_type": "display_data"
    },
    {
     "data": {
      "application/vnd.jupyter.widget-view+json": {
       "model_id": "59b186d22d6a46a68b01a713fddffef4",
       "version_major": 2,
       "version_minor": 0
      },
      "text/plain": [
       "VBox(children=(Label(value='0.001 MB of 0.001 MB uploaded (0.000 MB deduped)\\r'), FloatProgress(value=1.0, max…"
      ]
     },
     "metadata": {},
     "output_type": "display_data"
    },
    {
     "data": {
      "text/html": [
       "<style>\n",
       "    table.wandb td:nth-child(1) { padding: 0 10px; text-align: left ; width: auto;} td:nth-child(2) {text-align: left ; width: 100%}\n",
       "    .wandb-row { display: flex; flex-direction: row; flex-wrap: wrap; justify-content: flex-start; width: 100% }\n",
       "    .wandb-col { display: flex; flex-direction: column; flex-basis: 100%; flex: 1; padding: 10px; }\n",
       "    </style>\n",
       "<div class=\"wandb-row\"><div class=\"wandb-col\"><h3>Run history:</h3><br/><table class=\"wandb\"><tr><td>mse</td><td>▁</td></tr></table><br/></div><div class=\"wandb-col\"><h3>Run summary:</h3><br/><table class=\"wandb\"><tr><td>mse</td><td>7.03606</td></tr></table><br/></div></div>"
      ],
      "text/plain": [
       "<IPython.core.display.HTML object>"
      ]
     },
     "metadata": {},
     "output_type": "display_data"
    },
    {
     "data": {
      "text/html": [
       " View run <strong style=\"color:#cdcd00\">lively-sweep-4</strong> at: <a href='https://wandb.ai/alexb02/SolubilityPredictor/runs/yngz29d8' target=\"_blank\">https://wandb.ai/alexb02/SolubilityPredictor/runs/yngz29d8</a><br/>Synced 6 W&B file(s), 0 media file(s), 0 artifact file(s) and 0 other file(s)"
      ],
      "text/plain": [
       "<IPython.core.display.HTML object>"
      ]
     },
     "metadata": {},
     "output_type": "display_data"
    },
    {
     "data": {
      "text/html": [
       "Find logs at: <code>./wandb/run-20230515_190651-yngz29d8/logs</code>"
      ],
      "text/plain": [
       "<IPython.core.display.HTML object>"
      ]
     },
     "metadata": {},
     "output_type": "display_data"
    },
    {
     "name": "stderr",
     "output_type": "stream",
     "text": [
      "\u001b[34m\u001b[1mwandb\u001b[0m: Agent Starting Run: lcdqm3xj with config:\n",
      "\u001b[34m\u001b[1mwandb\u001b[0m: \tbatch_size: 125\n",
      "\u001b[34m\u001b[1mwandb\u001b[0m: \thidden_channels: 63\n",
      "\u001b[34m\u001b[1mwandb\u001b[0m: \tlr: 1.2115364751017272e-05\n",
      "\u001b[34m\u001b[1mwandb\u001b[0m: \tnum_epochs: 10\n",
      "\u001b[34m\u001b[1mwandb\u001b[0m: \tweight_decay: 2.8428852222208036e-06\n"
     ]
    },
    {
     "data": {
      "text/html": [
       "Tracking run with wandb version 0.15.2"
      ],
      "text/plain": [
       "<IPython.core.display.HTML object>"
      ]
     },
     "metadata": {},
     "output_type": "display_data"
    },
    {
     "data": {
      "text/html": [
       "Run data is saved locally in <code>/Users/alex/University/Year_3/deepchem/aqsoldb/wandb/run-20230515_190728-lcdqm3xj</code>"
      ],
      "text/plain": [
       "<IPython.core.display.HTML object>"
      ]
     },
     "metadata": {},
     "output_type": "display_data"
    },
    {
     "data": {
      "text/html": [
       "Syncing run <strong><a href='https://wandb.ai/alexb02/SolubilityPredictor/runs/lcdqm3xj' target=\"_blank\">sweepy-sweep-5</a></strong> to <a href='https://wandb.ai/alexb02/SolubilityPredictor' target=\"_blank\">Weights & Biases</a> (<a href='https://wandb.me/run' target=\"_blank\">docs</a>)<br/>Sweep page: <a href='https://wandb.ai/alexb02/SolubilityPredictor/sweeps/5d4kipr4' target=\"_blank\">https://wandb.ai/alexb02/SolubilityPredictor/sweeps/5d4kipr4</a>"
      ],
      "text/plain": [
       "<IPython.core.display.HTML object>"
      ]
     },
     "metadata": {},
     "output_type": "display_data"
    },
    {
     "data": {
      "text/html": [
       " View project at <a href='https://wandb.ai/alexb02/SolubilityPredictor' target=\"_blank\">https://wandb.ai/alexb02/SolubilityPredictor</a>"
      ],
      "text/plain": [
       "<IPython.core.display.HTML object>"
      ]
     },
     "metadata": {},
     "output_type": "display_data"
    },
    {
     "data": {
      "text/html": [
       " View sweep at <a href='https://wandb.ai/alexb02/SolubilityPredictor/sweeps/5d4kipr4' target=\"_blank\">https://wandb.ai/alexb02/SolubilityPredictor/sweeps/5d4kipr4</a>"
      ],
      "text/plain": [
       "<IPython.core.display.HTML object>"
      ]
     },
     "metadata": {},
     "output_type": "display_data"
    },
    {
     "data": {
      "text/html": [
       " View run at <a href='https://wandb.ai/alexb02/SolubilityPredictor/runs/lcdqm3xj' target=\"_blank\">https://wandb.ai/alexb02/SolubilityPredictor/runs/lcdqm3xj</a>"
      ],
      "text/plain": [
       "<IPython.core.display.HTML object>"
      ]
     },
     "metadata": {},
     "output_type": "display_data"
    },
    {
     "name": "stdout",
     "output_type": "stream",
     "text": [
      "loss: 20.281343162059784\n",
      "loss: 16.07087917625904\n",
      "loss: 14.63545024394989\n",
      "loss: 14.07811926305294\n",
      "loss: 13.094731986522675\n",
      "loss: 12.773168861865997\n",
      "loss: 11.086216732859612\n",
      "loss: 10.825394049286842\n",
      "loss: 11.985680758953094\n",
      "loss: 11.055353865027428\n"
     ]
    },
    {
     "data": {
      "text/html": [
       "Waiting for W&B process to finish... <strong style=\"color:green\">(success).</strong>"
      ],
      "text/plain": [
       "<IPython.core.display.HTML object>"
      ]
     },
     "metadata": {},
     "output_type": "display_data"
    },
    {
     "data": {
      "application/vnd.jupyter.widget-view+json": {
       "model_id": "0fb000735d54479197d3ecc35cea2ce2",
       "version_major": 2,
       "version_minor": 0
      },
      "text/plain": [
       "VBox(children=(Label(value='0.001 MB of 0.001 MB uploaded (0.000 MB deduped)\\r'), FloatProgress(value=1.0, max…"
      ]
     },
     "metadata": {},
     "output_type": "display_data"
    },
    {
     "data": {
      "text/html": [
       "<style>\n",
       "    table.wandb td:nth-child(1) { padding: 0 10px; text-align: left ; width: auto;} td:nth-child(2) {text-align: left ; width: 100%}\n",
       "    .wandb-row { display: flex; flex-direction: row; flex-wrap: wrap; justify-content: flex-start; width: 100% }\n",
       "    .wandb-col { display: flex; flex-direction: column; flex-basis: 100%; flex: 1; padding: 10px; }\n",
       "    </style>\n",
       "<div class=\"wandb-row\"><div class=\"wandb-col\"><h3>Run history:</h3><br/><table class=\"wandb\"><tr><td>mse</td><td>▁</td></tr></table><br/></div><div class=\"wandb-col\"><h3>Run summary:</h3><br/><table class=\"wandb\"><tr><td>mse</td><td>11.05535</td></tr></table><br/></div></div>"
      ],
      "text/plain": [
       "<IPython.core.display.HTML object>"
      ]
     },
     "metadata": {},
     "output_type": "display_data"
    },
    {
     "data": {
      "text/html": [
       " View run <strong style=\"color:#cdcd00\">sweepy-sweep-5</strong> at: <a href='https://wandb.ai/alexb02/SolubilityPredictor/runs/lcdqm3xj' target=\"_blank\">https://wandb.ai/alexb02/SolubilityPredictor/runs/lcdqm3xj</a><br/>Synced 6 W&B file(s), 0 media file(s), 0 artifact file(s) and 0 other file(s)"
      ],
      "text/plain": [
       "<IPython.core.display.HTML object>"
      ]
     },
     "metadata": {},
     "output_type": "display_data"
    },
    {
     "data": {
      "text/html": [
       "Find logs at: <code>./wandb/run-20230515_190728-lcdqm3xj/logs</code>"
      ],
      "text/plain": [
       "<IPython.core.display.HTML object>"
      ]
     },
     "metadata": {},
     "output_type": "display_data"
    },
    {
     "name": "stderr",
     "output_type": "stream",
     "text": [
      "\u001b[34m\u001b[1mwandb\u001b[0m: Sweep Agent: Waiting for job.\n",
      "\u001b[34m\u001b[1mwandb\u001b[0m: Job received.\n",
      "\u001b[34m\u001b[1mwandb\u001b[0m: Agent Starting Run: bbj3i1mc with config:\n",
      "\u001b[34m\u001b[1mwandb\u001b[0m: \tbatch_size: 63\n",
      "\u001b[34m\u001b[1mwandb\u001b[0m: \thidden_channels: 80\n",
      "\u001b[34m\u001b[1mwandb\u001b[0m: \tlr: 0.01157399225633972\n",
      "\u001b[34m\u001b[1mwandb\u001b[0m: \tnum_epochs: 10\n",
      "\u001b[34m\u001b[1mwandb\u001b[0m: \tweight_decay: 7.521045339086619e-07\n"
     ]
    },
    {
     "data": {
      "text/html": [
       "Tracking run with wandb version 0.15.2"
      ],
      "text/plain": [
       "<IPython.core.display.HTML object>"
      ]
     },
     "metadata": {},
     "output_type": "display_data"
    },
    {
     "data": {
      "text/html": [
       "Run data is saved locally in <code>/Users/alex/University/Year_3/deepchem/aqsoldb/wandb/run-20230515_190806-bbj3i1mc</code>"
      ],
      "text/plain": [
       "<IPython.core.display.HTML object>"
      ]
     },
     "metadata": {},
     "output_type": "display_data"
    },
    {
     "data": {
      "text/html": [
       "Syncing run <strong><a href='https://wandb.ai/alexb02/SolubilityPredictor/runs/bbj3i1mc' target=\"_blank\">serene-sweep-6</a></strong> to <a href='https://wandb.ai/alexb02/SolubilityPredictor' target=\"_blank\">Weights & Biases</a> (<a href='https://wandb.me/run' target=\"_blank\">docs</a>)<br/>Sweep page: <a href='https://wandb.ai/alexb02/SolubilityPredictor/sweeps/5d4kipr4' target=\"_blank\">https://wandb.ai/alexb02/SolubilityPredictor/sweeps/5d4kipr4</a>"
      ],
      "text/plain": [
       "<IPython.core.display.HTML object>"
      ]
     },
     "metadata": {},
     "output_type": "display_data"
    },
    {
     "data": {
      "text/html": [
       " View project at <a href='https://wandb.ai/alexb02/SolubilityPredictor' target=\"_blank\">https://wandb.ai/alexb02/SolubilityPredictor</a>"
      ],
      "text/plain": [
       "<IPython.core.display.HTML object>"
      ]
     },
     "metadata": {},
     "output_type": "display_data"
    },
    {
     "data": {
      "text/html": [
       " View sweep at <a href='https://wandb.ai/alexb02/SolubilityPredictor/sweeps/5d4kipr4' target=\"_blank\">https://wandb.ai/alexb02/SolubilityPredictor/sweeps/5d4kipr4</a>"
      ],
      "text/plain": [
       "<IPython.core.display.HTML object>"
      ]
     },
     "metadata": {},
     "output_type": "display_data"
    },
    {
     "data": {
      "text/html": [
       " View run at <a href='https://wandb.ai/alexb02/SolubilityPredictor/runs/bbj3i1mc' target=\"_blank\">https://wandb.ai/alexb02/SolubilityPredictor/runs/bbj3i1mc</a>"
      ],
      "text/plain": [
       "<IPython.core.display.HTML object>"
      ]
     },
     "metadata": {},
     "output_type": "display_data"
    },
    {
     "name": "stdout",
     "output_type": "stream",
     "text": [
      "loss: 898.6232204698026\n",
      "loss: 2675.329891268164\n",
      "loss: 7615.614904217422\n",
      "loss: 9908.509663179517\n",
      "loss: 16220.835028681904\n",
      "loss: 25024.04684876278\n",
      "loss: 16401.842674925923\n",
      "loss: 10212.786762665957\n",
      "loss: 7128.391537282616\n",
      "loss: 7244.327060490847\n"
     ]
    },
    {
     "data": {
      "text/html": [
       "Waiting for W&B process to finish... <strong style=\"color:green\">(success).</strong>"
      ],
      "text/plain": [
       "<IPython.core.display.HTML object>"
      ]
     },
     "metadata": {},
     "output_type": "display_data"
    },
    {
     "data": {
      "text/html": [
       "<style>\n",
       "    table.wandb td:nth-child(1) { padding: 0 10px; text-align: left ; width: auto;} td:nth-child(2) {text-align: left ; width: 100%}\n",
       "    .wandb-row { display: flex; flex-direction: row; flex-wrap: wrap; justify-content: flex-start; width: 100% }\n",
       "    .wandb-col { display: flex; flex-direction: column; flex-basis: 100%; flex: 1; padding: 10px; }\n",
       "    </style>\n",
       "<div class=\"wandb-row\"><div class=\"wandb-col\"><h3>Run history:</h3><br/><table class=\"wandb\"><tr><td>mse</td><td>▁</td></tr></table><br/></div><div class=\"wandb-col\"><h3>Run summary:</h3><br/><table class=\"wandb\"><tr><td>mse</td><td>7244.32706</td></tr></table><br/></div></div>"
      ],
      "text/plain": [
       "<IPython.core.display.HTML object>"
      ]
     },
     "metadata": {},
     "output_type": "display_data"
    },
    {
     "data": {
      "text/html": [
       " View run <strong style=\"color:#cdcd00\">serene-sweep-6</strong> at: <a href='https://wandb.ai/alexb02/SolubilityPredictor/runs/bbj3i1mc' target=\"_blank\">https://wandb.ai/alexb02/SolubilityPredictor/runs/bbj3i1mc</a><br/>Synced 6 W&B file(s), 0 media file(s), 0 artifact file(s) and 0 other file(s)"
      ],
      "text/plain": [
       "<IPython.core.display.HTML object>"
      ]
     },
     "metadata": {},
     "output_type": "display_data"
    },
    {
     "data": {
      "text/html": [
       "Find logs at: <code>./wandb/run-20230515_190806-bbj3i1mc/logs</code>"
      ],
      "text/plain": [
       "<IPython.core.display.HTML object>"
      ]
     },
     "metadata": {},
     "output_type": "display_data"
    },
    {
     "name": "stderr",
     "output_type": "stream",
     "text": [
      "\u001b[34m\u001b[1mwandb\u001b[0m: Agent Starting Run: pu6x36b1 with config:\n",
      "\u001b[34m\u001b[1mwandb\u001b[0m: \tbatch_size: 123\n",
      "\u001b[34m\u001b[1mwandb\u001b[0m: \thidden_channels: 238\n",
      "\u001b[34m\u001b[1mwandb\u001b[0m: \tlr: 0.004974840365876775\n",
      "\u001b[34m\u001b[1mwandb\u001b[0m: \tnum_epochs: 10\n",
      "\u001b[34m\u001b[1mwandb\u001b[0m: \tweight_decay: 5.931625080055226e-07\n"
     ]
    },
    {
     "data": {
      "text/html": [
       "Tracking run with wandb version 0.15.2"
      ],
      "text/plain": [
       "<IPython.core.display.HTML object>"
      ]
     },
     "metadata": {},
     "output_type": "display_data"
    },
    {
     "data": {
      "text/html": [
       "Run data is saved locally in <code>/Users/alex/University/Year_3/deepchem/aqsoldb/wandb/run-20230515_190838-pu6x36b1</code>"
      ],
      "text/plain": [
       "<IPython.core.display.HTML object>"
      ]
     },
     "metadata": {},
     "output_type": "display_data"
    },
    {
     "data": {
      "text/html": [
       "Syncing run <strong><a href='https://wandb.ai/alexb02/SolubilityPredictor/runs/pu6x36b1' target=\"_blank\">glowing-sweep-7</a></strong> to <a href='https://wandb.ai/alexb02/SolubilityPredictor' target=\"_blank\">Weights & Biases</a> (<a href='https://wandb.me/run' target=\"_blank\">docs</a>)<br/>Sweep page: <a href='https://wandb.ai/alexb02/SolubilityPredictor/sweeps/5d4kipr4' target=\"_blank\">https://wandb.ai/alexb02/SolubilityPredictor/sweeps/5d4kipr4</a>"
      ],
      "text/plain": [
       "<IPython.core.display.HTML object>"
      ]
     },
     "metadata": {},
     "output_type": "display_data"
    },
    {
     "data": {
      "text/html": [
       " View project at <a href='https://wandb.ai/alexb02/SolubilityPredictor' target=\"_blank\">https://wandb.ai/alexb02/SolubilityPredictor</a>"
      ],
      "text/plain": [
       "<IPython.core.display.HTML object>"
      ]
     },
     "metadata": {},
     "output_type": "display_data"
    },
    {
     "data": {
      "text/html": [
       " View sweep at <a href='https://wandb.ai/alexb02/SolubilityPredictor/sweeps/5d4kipr4' target=\"_blank\">https://wandb.ai/alexb02/SolubilityPredictor/sweeps/5d4kipr4</a>"
      ],
      "text/plain": [
       "<IPython.core.display.HTML object>"
      ]
     },
     "metadata": {},
     "output_type": "display_data"
    },
    {
     "data": {
      "text/html": [
       " View run at <a href='https://wandb.ai/alexb02/SolubilityPredictor/runs/pu6x36b1' target=\"_blank\">https://wandb.ai/alexb02/SolubilityPredictor/runs/pu6x36b1</a>"
      ],
      "text/plain": [
       "<IPython.core.display.HTML object>"
      ]
     },
     "metadata": {},
     "output_type": "display_data"
    },
    {
     "name": "stdout",
     "output_type": "stream",
     "text": [
      "loss: 52.83966972120106\n",
      "loss: 40.7907604817301\n",
      "loss: 119.51049136556685\n",
      "loss: 71.76808876916766\n",
      "loss: 109.18145343102515\n",
      "loss: 9.470042414963245\n",
      "loss: 1.7924700882285833\n",
      "loss: 1.7761276569217443\n",
      "loss: 2.5602665543556213\n",
      "loss: 5.010594744235277\n"
     ]
    },
    {
     "data": {
      "text/html": [
       "Waiting for W&B process to finish... <strong style=\"color:green\">(success).</strong>"
      ],
      "text/plain": [
       "<IPython.core.display.HTML object>"
      ]
     },
     "metadata": {},
     "output_type": "display_data"
    },
    {
     "data": {
      "text/html": [
       "<style>\n",
       "    table.wandb td:nth-child(1) { padding: 0 10px; text-align: left ; width: auto;} td:nth-child(2) {text-align: left ; width: 100%}\n",
       "    .wandb-row { display: flex; flex-direction: row; flex-wrap: wrap; justify-content: flex-start; width: 100% }\n",
       "    .wandb-col { display: flex; flex-direction: column; flex-basis: 100%; flex: 1; padding: 10px; }\n",
       "    </style>\n",
       "<div class=\"wandb-row\"><div class=\"wandb-col\"><h3>Run history:</h3><br/><table class=\"wandb\"><tr><td>mse</td><td>▁</td></tr></table><br/></div><div class=\"wandb-col\"><h3>Run summary:</h3><br/><table class=\"wandb\"><tr><td>mse</td><td>5.01059</td></tr></table><br/></div></div>"
      ],
      "text/plain": [
       "<IPython.core.display.HTML object>"
      ]
     },
     "metadata": {},
     "output_type": "display_data"
    },
    {
     "data": {
      "text/html": [
       " View run <strong style=\"color:#cdcd00\">glowing-sweep-7</strong> at: <a href='https://wandb.ai/alexb02/SolubilityPredictor/runs/pu6x36b1' target=\"_blank\">https://wandb.ai/alexb02/SolubilityPredictor/runs/pu6x36b1</a><br/>Synced 6 W&B file(s), 0 media file(s), 0 artifact file(s) and 0 other file(s)"
      ],
      "text/plain": [
       "<IPython.core.display.HTML object>"
      ]
     },
     "metadata": {},
     "output_type": "display_data"
    },
    {
     "data": {
      "text/html": [
       "Find logs at: <code>./wandb/run-20230515_190838-pu6x36b1/logs</code>"
      ],
      "text/plain": [
       "<IPython.core.display.HTML object>"
      ]
     },
     "metadata": {},
     "output_type": "display_data"
    },
    {
     "name": "stderr",
     "output_type": "stream",
     "text": [
      "\u001b[34m\u001b[1mwandb\u001b[0m: Agent Starting Run: fiuc45iy with config:\n",
      "\u001b[34m\u001b[1mwandb\u001b[0m: \tbatch_size: 119\n",
      "\u001b[34m\u001b[1mwandb\u001b[0m: \thidden_channels: 53\n",
      "\u001b[34m\u001b[1mwandb\u001b[0m: \tlr: 0.030434141472876\n",
      "\u001b[34m\u001b[1mwandb\u001b[0m: \tnum_epochs: 9\n",
      "\u001b[34m\u001b[1mwandb\u001b[0m: \tweight_decay: 9.580083820874832e-09\n"
     ]
    },
    {
     "data": {
      "text/html": [
       "Tracking run with wandb version 0.15.2"
      ],
      "text/plain": [
       "<IPython.core.display.HTML object>"
      ]
     },
     "metadata": {},
     "output_type": "display_data"
    },
    {
     "data": {
      "text/html": [
       "Run data is saved locally in <code>/Users/alex/University/Year_3/deepchem/aqsoldb/wandb/run-20230515_190921-fiuc45iy</code>"
      ],
      "text/plain": [
       "<IPython.core.display.HTML object>"
      ]
     },
     "metadata": {},
     "output_type": "display_data"
    },
    {
     "data": {
      "text/html": [
       "Syncing run <strong><a href='https://wandb.ai/alexb02/SolubilityPredictor/runs/fiuc45iy' target=\"_blank\">confused-sweep-8</a></strong> to <a href='https://wandb.ai/alexb02/SolubilityPredictor' target=\"_blank\">Weights & Biases</a> (<a href='https://wandb.me/run' target=\"_blank\">docs</a>)<br/>Sweep page: <a href='https://wandb.ai/alexb02/SolubilityPredictor/sweeps/5d4kipr4' target=\"_blank\">https://wandb.ai/alexb02/SolubilityPredictor/sweeps/5d4kipr4</a>"
      ],
      "text/plain": [
       "<IPython.core.display.HTML object>"
      ]
     },
     "metadata": {},
     "output_type": "display_data"
    },
    {
     "data": {
      "text/html": [
       " View project at <a href='https://wandb.ai/alexb02/SolubilityPredictor' target=\"_blank\">https://wandb.ai/alexb02/SolubilityPredictor</a>"
      ],
      "text/plain": [
       "<IPython.core.display.HTML object>"
      ]
     },
     "metadata": {},
     "output_type": "display_data"
    },
    {
     "data": {
      "text/html": [
       " View sweep at <a href='https://wandb.ai/alexb02/SolubilityPredictor/sweeps/5d4kipr4' target=\"_blank\">https://wandb.ai/alexb02/SolubilityPredictor/sweeps/5d4kipr4</a>"
      ],
      "text/plain": [
       "<IPython.core.display.HTML object>"
      ]
     },
     "metadata": {},
     "output_type": "display_data"
    },
    {
     "data": {
      "text/html": [
       " View run at <a href='https://wandb.ai/alexb02/SolubilityPredictor/runs/fiuc45iy' target=\"_blank\">https://wandb.ai/alexb02/SolubilityPredictor/runs/fiuc45iy</a>"
      ],
      "text/plain": [
       "<IPython.core.display.HTML object>"
      ]
     },
     "metadata": {},
     "output_type": "display_data"
    },
    {
     "name": "stdout",
     "output_type": "stream",
     "text": [
      "loss: 1199.912275614217\n",
      "loss: 5069.117190737277\n",
      "loss: 3925.954480431974\n",
      "loss: 2369.7580522298813\n",
      "loss: 2214.271826542914\n",
      "loss: 134.56758574396372\n",
      "loss: 252.44085431843996\n",
      "loss: 375.89999897405505\n",
      "loss: 107.74666135013103\n"
     ]
    },
    {
     "data": {
      "text/html": [
       "Waiting for W&B process to finish... <strong style=\"color:green\">(success).</strong>"
      ],
      "text/plain": [
       "<IPython.core.display.HTML object>"
      ]
     },
     "metadata": {},
     "output_type": "display_data"
    },
    {
     "data": {
      "application/vnd.jupyter.widget-view+json": {
       "model_id": "202ac6a8307c4330aadc4ece8f7276e5",
       "version_major": 2,
       "version_minor": 0
      },
      "text/plain": [
       "VBox(children=(Label(value='0.001 MB of 0.023 MB uploaded (0.000 MB deduped)\\r'), FloatProgress(value=0.034508…"
      ]
     },
     "metadata": {},
     "output_type": "display_data"
    },
    {
     "data": {
      "text/html": [
       "<style>\n",
       "    table.wandb td:nth-child(1) { padding: 0 10px; text-align: left ; width: auto;} td:nth-child(2) {text-align: left ; width: 100%}\n",
       "    .wandb-row { display: flex; flex-direction: row; flex-wrap: wrap; justify-content: flex-start; width: 100% }\n",
       "    .wandb-col { display: flex; flex-direction: column; flex-basis: 100%; flex: 1; padding: 10px; }\n",
       "    </style>\n",
       "<div class=\"wandb-row\"><div class=\"wandb-col\"><h3>Run history:</h3><br/><table class=\"wandb\"><tr><td>mse</td><td>▁</td></tr></table><br/></div><div class=\"wandb-col\"><h3>Run summary:</h3><br/><table class=\"wandb\"><tr><td>mse</td><td>107.74666</td></tr></table><br/></div></div>"
      ],
      "text/plain": [
       "<IPython.core.display.HTML object>"
      ]
     },
     "metadata": {},
     "output_type": "display_data"
    },
    {
     "data": {
      "text/html": [
       " View run <strong style=\"color:#cdcd00\">confused-sweep-8</strong> at: <a href='https://wandb.ai/alexb02/SolubilityPredictor/runs/fiuc45iy' target=\"_blank\">https://wandb.ai/alexb02/SolubilityPredictor/runs/fiuc45iy</a><br/>Synced 6 W&B file(s), 0 media file(s), 0 artifact file(s) and 0 other file(s)"
      ],
      "text/plain": [
       "<IPython.core.display.HTML object>"
      ]
     },
     "metadata": {},
     "output_type": "display_data"
    },
    {
     "data": {
      "text/html": [
       "Find logs at: <code>./wandb/run-20230515_190921-fiuc45iy/logs</code>"
      ],
      "text/plain": [
       "<IPython.core.display.HTML object>"
      ]
     },
     "metadata": {},
     "output_type": "display_data"
    },
    {
     "name": "stderr",
     "output_type": "stream",
     "text": [
      "\u001b[34m\u001b[1mwandb\u001b[0m: Agent Starting Run: ojhqyvz3 with config:\n",
      "\u001b[34m\u001b[1mwandb\u001b[0m: \tbatch_size: 109\n",
      "\u001b[34m\u001b[1mwandb\u001b[0m: \thidden_channels: 102\n",
      "\u001b[34m\u001b[1mwandb\u001b[0m: \tlr: 0.008125221253178022\n",
      "\u001b[34m\u001b[1mwandb\u001b[0m: \tnum_epochs: 9\n",
      "\u001b[34m\u001b[1mwandb\u001b[0m: \tweight_decay: 7.012894083377397e-07\n"
     ]
    },
    {
     "data": {
      "text/html": [
       "Tracking run with wandb version 0.15.2"
      ],
      "text/plain": [
       "<IPython.core.display.HTML object>"
      ]
     },
     "metadata": {},
     "output_type": "display_data"
    },
    {
     "data": {
      "text/html": [
       "Run data is saved locally in <code>/Users/alex/University/Year_3/deepchem/aqsoldb/wandb/run-20230515_190947-ojhqyvz3</code>"
      ],
      "text/plain": [
       "<IPython.core.display.HTML object>"
      ]
     },
     "metadata": {},
     "output_type": "display_data"
    },
    {
     "data": {
      "text/html": [
       "Syncing run <strong><a href='https://wandb.ai/alexb02/SolubilityPredictor/runs/ojhqyvz3' target=\"_blank\">snowy-sweep-9</a></strong> to <a href='https://wandb.ai/alexb02/SolubilityPredictor' target=\"_blank\">Weights & Biases</a> (<a href='https://wandb.me/run' target=\"_blank\">docs</a>)<br/>Sweep page: <a href='https://wandb.ai/alexb02/SolubilityPredictor/sweeps/5d4kipr4' target=\"_blank\">https://wandb.ai/alexb02/SolubilityPredictor/sweeps/5d4kipr4</a>"
      ],
      "text/plain": [
       "<IPython.core.display.HTML object>"
      ]
     },
     "metadata": {},
     "output_type": "display_data"
    },
    {
     "data": {
      "text/html": [
       " View project at <a href='https://wandb.ai/alexb02/SolubilityPredictor' target=\"_blank\">https://wandb.ai/alexb02/SolubilityPredictor</a>"
      ],
      "text/plain": [
       "<IPython.core.display.HTML object>"
      ]
     },
     "metadata": {},
     "output_type": "display_data"
    },
    {
     "data": {
      "text/html": [
       " View sweep at <a href='https://wandb.ai/alexb02/SolubilityPredictor/sweeps/5d4kipr4' target=\"_blank\">https://wandb.ai/alexb02/SolubilityPredictor/sweeps/5d4kipr4</a>"
      ],
      "text/plain": [
       "<IPython.core.display.HTML object>"
      ]
     },
     "metadata": {},
     "output_type": "display_data"
    },
    {
     "data": {
      "text/html": [
       " View run at <a href='https://wandb.ai/alexb02/SolubilityPredictor/runs/ojhqyvz3' target=\"_blank\">https://wandb.ai/alexb02/SolubilityPredictor/runs/ojhqyvz3</a>"
      ],
      "text/plain": [
       "<IPython.core.display.HTML object>"
      ]
     },
     "metadata": {},
     "output_type": "display_data"
    },
    {
     "name": "stdout",
     "output_type": "stream",
     "text": [
      "loss: 27.765543213114142\n",
      "loss: 486.75018855929375\n",
      "loss: 344.2917249780148\n",
      "loss: 255.42646943219006\n",
      "loss: 162.3536927383393\n",
      "loss: 20.022428223863244\n",
      "loss: 76.62445028312504\n",
      "loss: 36.92621922492981\n",
      "loss: 34.292299365624785\n"
     ]
    },
    {
     "data": {
      "text/html": [
       "Waiting for W&B process to finish... <strong style=\"color:green\">(success).</strong>"
      ],
      "text/plain": [
       "<IPython.core.display.HTML object>"
      ]
     },
     "metadata": {},
     "output_type": "display_data"
    },
    {
     "data": {
      "application/vnd.jupyter.widget-view+json": {
       "model_id": "c06842c2752c4c4ca6ff448a81ffc624",
       "version_major": 2,
       "version_minor": 0
      },
      "text/plain": [
       "VBox(children=(Label(value='0.001 MB of 0.001 MB uploaded (0.000 MB deduped)\\r'), FloatProgress(value=1.0, max…"
      ]
     },
     "metadata": {},
     "output_type": "display_data"
    },
    {
     "data": {
      "text/html": [
       "<style>\n",
       "    table.wandb td:nth-child(1) { padding: 0 10px; text-align: left ; width: auto;} td:nth-child(2) {text-align: left ; width: 100%}\n",
       "    .wandb-row { display: flex; flex-direction: row; flex-wrap: wrap; justify-content: flex-start; width: 100% }\n",
       "    .wandb-col { display: flex; flex-direction: column; flex-basis: 100%; flex: 1; padding: 10px; }\n",
       "    </style>\n",
       "<div class=\"wandb-row\"><div class=\"wandb-col\"><h3>Run history:</h3><br/><table class=\"wandb\"><tr><td>mse</td><td>▁</td></tr></table><br/></div><div class=\"wandb-col\"><h3>Run summary:</h3><br/><table class=\"wandb\"><tr><td>mse</td><td>34.2923</td></tr></table><br/></div></div>"
      ],
      "text/plain": [
       "<IPython.core.display.HTML object>"
      ]
     },
     "metadata": {},
     "output_type": "display_data"
    },
    {
     "data": {
      "text/html": [
       " View run <strong style=\"color:#cdcd00\">snowy-sweep-9</strong> at: <a href='https://wandb.ai/alexb02/SolubilityPredictor/runs/ojhqyvz3' target=\"_blank\">https://wandb.ai/alexb02/SolubilityPredictor/runs/ojhqyvz3</a><br/>Synced 6 W&B file(s), 0 media file(s), 0 artifact file(s) and 0 other file(s)"
      ],
      "text/plain": [
       "<IPython.core.display.HTML object>"
      ]
     },
     "metadata": {},
     "output_type": "display_data"
    },
    {
     "data": {
      "text/html": [
       "Find logs at: <code>./wandb/run-20230515_190947-ojhqyvz3/logs</code>"
      ],
      "text/plain": [
       "<IPython.core.display.HTML object>"
      ]
     },
     "metadata": {},
     "output_type": "display_data"
    },
    {
     "name": "stderr",
     "output_type": "stream",
     "text": [
      "\u001b[34m\u001b[1mwandb\u001b[0m: Agent Starting Run: 3cjdfpxd with config:\n",
      "\u001b[34m\u001b[1mwandb\u001b[0m: \tbatch_size: 19\n",
      "\u001b[34m\u001b[1mwandb\u001b[0m: \thidden_channels: 443\n",
      "\u001b[34m\u001b[1mwandb\u001b[0m: \tlr: 0.00108399110375668\n",
      "\u001b[34m\u001b[1mwandb\u001b[0m: \tnum_epochs: 10\n",
      "\u001b[34m\u001b[1mwandb\u001b[0m: \tweight_decay: 1.5145354410457838e-07\n"
     ]
    },
    {
     "data": {
      "text/html": [
       "Tracking run with wandb version 0.15.2"
      ],
      "text/plain": [
       "<IPython.core.display.HTML object>"
      ]
     },
     "metadata": {},
     "output_type": "display_data"
    },
    {
     "data": {
      "text/html": [
       "Run data is saved locally in <code>/Users/alex/University/Year_3/deepchem/aqsoldb/wandb/run-20230515_191022-3cjdfpxd</code>"
      ],
      "text/plain": [
       "<IPython.core.display.HTML object>"
      ]
     },
     "metadata": {},
     "output_type": "display_data"
    },
    {
     "data": {
      "text/html": [
       "Syncing run <strong><a href='https://wandb.ai/alexb02/SolubilityPredictor/runs/3cjdfpxd' target=\"_blank\">laced-sweep-10</a></strong> to <a href='https://wandb.ai/alexb02/SolubilityPredictor' target=\"_blank\">Weights & Biases</a> (<a href='https://wandb.me/run' target=\"_blank\">docs</a>)<br/>Sweep page: <a href='https://wandb.ai/alexb02/SolubilityPredictor/sweeps/5d4kipr4' target=\"_blank\">https://wandb.ai/alexb02/SolubilityPredictor/sweeps/5d4kipr4</a>"
      ],
      "text/plain": [
       "<IPython.core.display.HTML object>"
      ]
     },
     "metadata": {},
     "output_type": "display_data"
    },
    {
     "data": {
      "text/html": [
       " View project at <a href='https://wandb.ai/alexb02/SolubilityPredictor' target=\"_blank\">https://wandb.ai/alexb02/SolubilityPredictor</a>"
      ],
      "text/plain": [
       "<IPython.core.display.HTML object>"
      ]
     },
     "metadata": {},
     "output_type": "display_data"
    },
    {
     "data": {
      "text/html": [
       " View sweep at <a href='https://wandb.ai/alexb02/SolubilityPredictor/sweeps/5d4kipr4' target=\"_blank\">https://wandb.ai/alexb02/SolubilityPredictor/sweeps/5d4kipr4</a>"
      ],
      "text/plain": [
       "<IPython.core.display.HTML object>"
      ]
     },
     "metadata": {},
     "output_type": "display_data"
    },
    {
     "data": {
      "text/html": [
       " View run at <a href='https://wandb.ai/alexb02/SolubilityPredictor/runs/3cjdfpxd' target=\"_blank\">https://wandb.ai/alexb02/SolubilityPredictor/runs/3cjdfpxd</a>"
      ],
      "text/plain": [
       "<IPython.core.display.HTML object>"
      ]
     },
     "metadata": {},
     "output_type": "display_data"
    },
    {
     "name": "stdout",
     "output_type": "stream",
     "text": [
      "loss: 591.1104813748971\n",
      "loss: 60.31645524781197\n",
      "loss: 194.32123770192266\n",
      "loss: 43.25601611658931\n",
      "loss: 46.76056456193328\n",
      "loss: 43.130606949329376\n",
      "loss: 50.614115483127534\n",
      "loss: 106.65383637323976\n",
      "loss: 457.7980485474691\n",
      "loss: 1234.213883771561\n"
     ]
    },
    {
     "data": {
      "text/html": [
       "Waiting for W&B process to finish... <strong style=\"color:green\">(success).</strong>"
      ],
      "text/plain": [
       "<IPython.core.display.HTML object>"
      ]
     },
     "metadata": {},
     "output_type": "display_data"
    },
    {
     "data": {
      "text/html": [
       "<style>\n",
       "    table.wandb td:nth-child(1) { padding: 0 10px; text-align: left ; width: auto;} td:nth-child(2) {text-align: left ; width: 100%}\n",
       "    .wandb-row { display: flex; flex-direction: row; flex-wrap: wrap; justify-content: flex-start; width: 100% }\n",
       "    .wandb-col { display: flex; flex-direction: column; flex-basis: 100%; flex: 1; padding: 10px; }\n",
       "    </style>\n",
       "<div class=\"wandb-row\"><div class=\"wandb-col\"><h3>Run history:</h3><br/><table class=\"wandb\"><tr><td>mse</td><td>▁</td></tr></table><br/></div><div class=\"wandb-col\"><h3>Run summary:</h3><br/><table class=\"wandb\"><tr><td>mse</td><td>1234.21388</td></tr></table><br/></div></div>"
      ],
      "text/plain": [
       "<IPython.core.display.HTML object>"
      ]
     },
     "metadata": {},
     "output_type": "display_data"
    },
    {
     "data": {
      "text/html": [
       " View run <strong style=\"color:#cdcd00\">laced-sweep-10</strong> at: <a href='https://wandb.ai/alexb02/SolubilityPredictor/runs/3cjdfpxd' target=\"_blank\">https://wandb.ai/alexb02/SolubilityPredictor/runs/3cjdfpxd</a><br/>Synced 6 W&B file(s), 0 media file(s), 0 artifact file(s) and 0 other file(s)"
      ],
      "text/plain": [
       "<IPython.core.display.HTML object>"
      ]
     },
     "metadata": {},
     "output_type": "display_data"
    },
    {
     "data": {
      "text/html": [
       "Find logs at: <code>./wandb/run-20230515_191022-3cjdfpxd/logs</code>"
      ],
      "text/plain": [
       "<IPython.core.display.HTML object>"
      ]
     },
     "metadata": {},
     "output_type": "display_data"
    }
   ],
   "source": [
    "from torch_geometric.loader import DataLoader\n",
    "\n",
    "\n",
    "sweep_config = {\n",
    "  \"name\": \"sweep\",\n",
    "  \"method\": \"bayes\",\n",
    "  \"metric\": {\n",
    "    \"goal\": \"minimize\",\n",
    "    \"name\": \"mse\"\n",
    "  },\n",
    "  \"parameters\": {\n",
    "    \"hidden_channels\": {\n",
    "      \"min\": 30,\n",
    "      \"max\": 512\n",
    "    },\n",
    "    \"num_epochs\": {\n",
    "      \"min\": 1,\n",
    "      \"max\": 5\n",
    "    },\n",
    "    \"batch_size\": {\n",
    "      \"min\": 1,\n",
    "      \"max\": 128\n",
    "    },\n",
    "    \"lr\": {\n",
    "      \"min\": 1e-6,\n",
    "      \"max\": 1e-1\n",
    "    },\n",
    "    \"weight_decay\": {\n",
    "      \"min\": float(0),\n",
    "      \"max\": 1e-5\n",
    "    },\n",
    "    \"dropout\": {\n",
    "      \"min\": 0,\n",
    "      \"max\": 1\n",
    "    }\n",
    "  }\n",
    "}\n",
    "\n",
    "\n",
    "sweep_id = wandb.sweep(\n",
    "  sweep_config, project=\"SolubilityPredictor\"\n",
    ")\n",
    "\n",
    "def tune_hyperparameters(config=None):\n",
    "  with wandb.init(config=config):\n",
    "    config = wandb.config\n",
    "    model = AqSolModel(\n",
    "      30,\n",
    "      config.hidden_channels,\n",
    "      lr=config.lr,\n",
    "      weight_decay=config.weight_decay,\n",
    "      dropout=config.dropout\n",
    "    )\n",
    "    trainer = Trainer(model, train_dataset, config.batch_size)\n",
    "    trainer.run(config.num_epochs)\n",
    "\n",
    "wandb_config = {\n",
    "  \"architecture\": \"ConvGNN\",\n",
    "}\n",
    "\n",
    "\n",
    "wandb.agent(\n",
    "  sweep_id,\n",
    "  function=tune_hyperparameters,\n",
    "  project=\"SolubilityPredictor\",\n",
    "  count=10\n",
    ")"
   ]
  }
 ],
 "metadata": {
  "kernelspec": {
   "display_name": "gnndd",
   "language": "python",
   "name": "python3"
  },
  "language_info": {
   "codemirror_mode": {
    "name": "ipython",
    "version": 3
   },
   "file_extension": ".py",
   "mimetype": "text/x-python",
   "name": "python",
   "nbconvert_exporter": "python",
   "pygments_lexer": "ipython3",
   "version": "3.8.16"
  },
  "orig_nbformat": 4
 },
 "nbformat": 4,
 "nbformat_minor": 2
}
