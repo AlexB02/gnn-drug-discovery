{
 "cells": [
  {
   "cell_type": "code",
   "execution_count": 45,
   "metadata": {},
   "outputs": [
    {
     "data": {
      "text/plain": [
       "array([-2.8586197], dtype=float32)"
      ]
     },
     "execution_count": 45,
     "metadata": {},
     "output_type": "execute_result"
    }
   ],
   "source": [
    "import pickle\n",
    "from aqsol_model import AqSolModel\n",
    "from deepchem.feat import MolGraphConvFeaturizer\n",
    "\n",
    "\n",
    "model: AqSolModel = None\n",
    "with open(\"trained_model\", \"rb\") as f:\n",
    "    model = pickle.load(f)\n",
    "\n",
    "\n",
    "featurizer = MolGraphConvFeaturizer(use_edges=True)\n",
    "mol = featurizer.featurize(\"N1N=CC=CC2=CC=CC=C12\")[0]\n",
    "del mol.kwargs['pos']\n",
    "model.predict(mol.to_pyg_graph())"
   ]
  }
 ],
 "metadata": {
  "kernelspec": {
   "display_name": "gnndd",
   "language": "python",
   "name": "python3"
  },
  "language_info": {
   "codemirror_mode": {
    "name": "ipython",
    "version": 3
   },
   "file_extension": ".py",
   "mimetype": "text/x-python",
   "name": "python",
   "nbconvert_exporter": "python",
   "pygments_lexer": "ipython3",
   "version": "3.8.16"
  },
  "orig_nbformat": 4
 },
 "nbformat": 4,
 "nbformat_minor": 2
}
