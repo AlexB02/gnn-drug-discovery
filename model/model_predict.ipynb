{
 "cells": [
  {
   "cell_type": "code",
   "execution_count": 5,
   "metadata": {},
   "outputs": [
    {
     "name": "stdout",
     "output_type": "stream",
     "text": [
      "-3.0236235\n"
     ]
    }
   ],
   "source": [
    "import pickle\n",
    "from aqsol_model import AqSolModel, DSM\n",
    "from deepchem.feat import MolGraphConvFeaturizer\n",
    "\n",
    "\n",
    "# temp_model = None\n",
    "# with open(\"temp_model\", \"rb\") as f:\n",
    "#     temp_model = pickle.load(f)\n",
    "global_model = None\n",
    "with open(\"small_trained_model\", \"rb\") as f:\n",
    "    global_model = pickle.load(f)\n",
    "\n",
    "\n",
    "featurizer = MolGraphConvFeaturizer(use_edges=True)\n",
    "mol = featurizer.featurize(\"CN(Cc1ccc(Cl)nc1)C(C)=NC#N\")[0]\n",
    "del mol.kwargs['pos']\n",
    "print(\n",
    "    # temp_model.predict(mol.to_pyg_graph())[0],\n",
    "    global_model.predict(mol.to_pyg_graph())[0]\n",
    ")"
   ]
  },
  {
   "cell_type": "code",
   "execution_count": null,
   "metadata": {},
   "outputs": [],
   "source": [
    "(1 / (2.1376816201 - -13.1719)) ** 2"
   ]
  }
 ],
 "metadata": {
  "kernelspec": {
   "display_name": "gnndd",
   "language": "python",
   "name": "python3"
  },
  "language_info": {
   "codemirror_mode": {
    "name": "ipython",
    "version": 3
   },
   "file_extension": ".py",
   "mimetype": "text/x-python",
   "name": "python",
   "nbconvert_exporter": "python",
   "pygments_lexer": "ipython3",
   "version": "3.8.16"
  },
  "orig_nbformat": 4
 },
 "nbformat": 4,
 "nbformat_minor": 2
}
