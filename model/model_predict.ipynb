{
 "cells": [
  {
   "cell_type": "code",
   "execution_count": 1,
   "metadata": {},
   "outputs": [
    {
     "ename": "ImportError",
     "evalue": "attempted relative import with no known parent package",
     "output_type": "error",
     "traceback": [
      "\u001b[0;31m---------------------------------------------------------------------------\u001b[0m",
      "\u001b[0;31mImportError\u001b[0m                               Traceback (most recent call last)",
      "\u001b[1;32m/Users/alex/University/Year_3/deepchem/aqsoldb/model/model_predict.ipynb Cell 1\u001b[0m in \u001b[0;36m<cell line: 2>\u001b[0;34m()\u001b[0m\n\u001b[1;32m      <a href='vscode-notebook-cell:/Users/alex/University/Year_3/deepchem/aqsoldb/model/model_predict.ipynb#W0sZmlsZQ%3D%3D?line=0'>1</a>\u001b[0m \u001b[39mimport\u001b[39;00m \u001b[39mpickle\u001b[39;00m\n\u001b[0;32m----> <a href='vscode-notebook-cell:/Users/alex/University/Year_3/deepchem/aqsoldb/model/model_predict.ipynb#W0sZmlsZQ%3D%3D?line=1'>2</a>\u001b[0m \u001b[39mfrom\u001b[39;00m \u001b[39maqsol_model\u001b[39;00m \u001b[39mimport\u001b[39;00m AqSolModel, DSM\n\u001b[1;32m      <a href='vscode-notebook-cell:/Users/alex/University/Year_3/deepchem/aqsoldb/model/model_predict.ipynb#W0sZmlsZQ%3D%3D?line=2'>3</a>\u001b[0m \u001b[39mfrom\u001b[39;00m \u001b[39mdeepchem\u001b[39;00m\u001b[39m.\u001b[39;00m\u001b[39mfeat\u001b[39;00m \u001b[39mimport\u001b[39;00m MolGraphConvFeaturizer\n\u001b[1;32m      <a href='vscode-notebook-cell:/Users/alex/University/Year_3/deepchem/aqsoldb/model/model_predict.ipynb#W0sZmlsZQ%3D%3D?line=5'>6</a>\u001b[0m \u001b[39m# temp_model = None\u001b[39;00m\n\u001b[1;32m      <a href='vscode-notebook-cell:/Users/alex/University/Year_3/deepchem/aqsoldb/model/model_predict.ipynb#W0sZmlsZQ%3D%3D?line=6'>7</a>\u001b[0m \u001b[39m# with open(\"temp_model\", \"rb\") as f:\u001b[39;00m\n\u001b[1;32m      <a href='vscode-notebook-cell:/Users/alex/University/Year_3/deepchem/aqsoldb/model/model_predict.ipynb#W0sZmlsZQ%3D%3D?line=7'>8</a>\u001b[0m \u001b[39m#     temp_model = pickle.load(f)\u001b[39;00m\n",
      "File \u001b[0;32m~/University/Year_3/deepchem/aqsoldb/model/aqsol_model.py:16\u001b[0m, in \u001b[0;36m<module>\u001b[0;34m\u001b[0m\n\u001b[1;32m     14\u001b[0m \u001b[39m# from aqsol_dataset import AqSolDBDataset\u001b[39;00m\n\u001b[1;32m     15\u001b[0m \u001b[39mimport\u001b[39;00m \u001b[39mpickle\u001b[39;00m\n\u001b[0;32m---> 16\u001b[0m \u001b[39mfrom\u001b[39;00m \u001b[39m.\u001b[39;00m\u001b[39mdevice\u001b[39;00m \u001b[39mimport\u001b[39;00m get_device\n\u001b[1;32m     17\u001b[0m \u001b[39mimport\u001b[39;00m \u001b[39mnumpy\u001b[39;00m \u001b[39mas\u001b[39;00m \u001b[39mnp\u001b[39;00m\n\u001b[1;32m     18\u001b[0m \u001b[39mfrom\u001b[39;00m \u001b[39mtorch_geometric\u001b[39;00m\u001b[39m.\u001b[39;00m\u001b[39mdata\u001b[39;00m \u001b[39mimport\u001b[39;00m Data, Dataset\n",
      "\u001b[0;31mImportError\u001b[0m: attempted relative import with no known parent package"
     ]
    }
   ],
   "source": [
    "import pickle\n",
    "from aqsol_model import AqSolModel, DSM\n",
    "from deepchem.feat import MolGraphConvFeaturizer\n",
    "\n",
    "\n",
    "# temp_model = None\n",
    "# with open(\"temp_model\", \"rb\") as f:\n",
    "#     temp_model = pickle.load(f)\n",
    "global_model = None\n",
    "with open(\"model/global_model\", \"rb\") as f:\n",
    "    global_model = pickle.load(f)\n",
    "\n",
    "\n",
    "featurizer = MolGraphConvFeaturizer(use_edges=True)\n",
    "mol = featurizer.featurize(\"CN(Cc1ccc(Cl)nc1)C(C)=NC#N\")[0]\n",
    "del mol.kwargs['pos']\n",
    "print(\n",
    "    # temp_model.predict(mol.to_pyg_graph())[0],\n",
    "    global_model.predict(mol.to_pyg_graph())[0]\n",
    ")"
   ]
  },
  {
   "cell_type": "code",
   "execution_count": null,
   "metadata": {},
   "outputs": [],
   "source": [
    "(1 / (2.1376816201 - -13.1719)) ** 2"
   ]
  }
 ],
 "metadata": {
  "kernelspec": {
   "display_name": "gnndd",
   "language": "python",
   "name": "python3"
  },
  "language_info": {
   "codemirror_mode": {
    "name": "ipython",
    "version": 3
   },
   "file_extension": ".py",
   "mimetype": "text/x-python",
   "name": "python",
   "nbconvert_exporter": "python",
   "pygments_lexer": "ipython3",
   "version": "3.8.16"
  },
  "orig_nbformat": 4
 },
 "nbformat": 4,
 "nbformat_minor": 2
}
