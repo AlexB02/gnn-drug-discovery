{
 "cells": [
  {
   "cell_type": "code",
   "execution_count": 2,
   "metadata": {},
   "outputs": [
    {
     "data": {
      "text/plain": [
       "'c1ccccc1'"
      ]
     },
     "execution_count": 2,
     "metadata": {},
     "output_type": "execute_result"
    }
   ],
   "source": [
    "from rdkit import Chem\n",
    "from rdkit.Chem.Scaffolds.MurckoScaffold import (\n",
    "    GetScaffoldForMol,\n",
    "    MakeScaffoldGeneric,\n",
    "    MurckoScaffoldSmilesFromSmiles\n",
    ")\n",
    "\n",
    "m = Chem.MolFromSmiles(\"Cc1ccccc1\")\n",
    "scaffold = GetScaffoldForMol(m)\n",
    "Chem.MolToSmiles(scaffold)\n",
    "\n"
   ]
  },
  {
   "cell_type": "code",
   "execution_count": 2,
   "metadata": {},
   "outputs": [
    {
     "data": {
      "text/plain": [
       "array(['[Br-].CCCCCCCCCCCCCCCCCC[N+](C)(C)C', 'O=C1Nc2cccc3cccc1c23',\n",
       "       'Clc1ccc(C=O)cc1', ..., 'c1(cc(ccc1C(C)C)C)O',\n",
       "       'COc1ccc(CCN(C)CCCC(C#N)(C(C)C)c2ccc(OC)c(OC)c2)cc1OC',\n",
       "       'CC(=O)CC(c1ccccc1)c1c(O)c2ccccc2oc1=O'], dtype=object)"
      ]
     },
     "execution_count": 2,
     "metadata": {},
     "output_type": "execute_result"
    }
   ],
   "source": [
    "import pandas as pd\n",
    "\n",
    "data = pd.read_csv(\"../data/aqsoldb.csv\")\n",
    "smiles = data[\"SMILES\"].to_numpy()\n",
    "smiles"
   ]
  },
  {
   "cell_type": "code",
   "execution_count": null,
   "metadata": {},
   "outputs": [],
   "source": [
    "import numpy as np\n",
    "from rdkit import RDLogger\n",
    "\n",
    "groups = {}\n",
    "for s in smiles:\n",
    "    scaffold = MurckoScaffoldSmilesFromSmiles(s)\n",
    "    if scaffold == \"\":\n",
    "        mol = Chem.MolFromSmiles(s)\n",
    "        s = Chem.MolToSmiles(mol, isomericSmiles=True)\n",
    "        scaffold = MurckoScaffoldSmilesFromSmiles(s)\n",
    "    if scaffold in groups:\n",
    "        groups[scaffold].append(s)\n",
    "    else:\n",
    "        groups[scaffold] = [s]\n",
    "\n",
    "# groups = np.array([MurckoScaffoldSmilesFromSmiles(s) for s in smiles])"
   ]
  },
  {
   "cell_type": "code",
   "execution_count": null,
   "metadata": {},
   "outputs": [],
   "source": [
    "from matplotlib import pyplot as plt\n",
    "\n",
    "xs = np.array([n for n in range(len(groups))])\n",
    "ys = np.zeros(len(groups))\n",
    "\n",
    "for i, key in enumerate(groups.keys()):\n",
    "    ys[i] = len(groups[key])\n",
    "\n",
    "# [print(v) for v in groups.values()]\n",
    "# print(len(groups))\n",
    "plt.bar(xs, ys, width=50)\n",
    "plt.show()\n",
    "print(groups)"
   ]
  },
  {
   "cell_type": "code",
   "execution_count": 3,
   "metadata": {},
   "outputs": [
    {
     "name": "stderr",
     "output_type": "stream",
     "text": [
      "[16:47:41] WARNING: not removing hydrogen atom without neighbors\n",
      "[16:47:41] WARNING: not removing hydrogen atom without neighbors\n",
      "[16:47:41] WARNING: not removing hydrogen atom without neighbors\n",
      "[16:47:41] WARNING: not removing hydrogen atom without neighbors\n",
      "[16:47:41] WARNING: not removing hydrogen atom without neighbors\n",
      "[16:47:41] WARNING: not removing hydrogen atom without neighbors\n",
      "[16:47:41] WARNING: not removing hydrogen atom without neighbors\n",
      "[16:47:41] WARNING: not removing hydrogen atom without neighbors\n",
      "[16:47:41] WARNING: not removing hydrogen atom without neighbors\n",
      "[16:47:41] WARNING: not removing hydrogen atom without neighbors\n",
      "[16:47:41] WARNING: not removing hydrogen atom without neighbors\n",
      "[16:47:41] WARNING: not removing hydrogen atom without neighbors\n",
      "[16:47:41] WARNING: not removing hydrogen atom without neighbors\n",
      "[16:47:41] WARNING: not removing hydrogen atom without neighbors\n",
      "[16:47:41] WARNING: not removing hydrogen atom without neighbors\n",
      "[16:47:41] WARNING: not removing hydrogen atom without neighbors\n",
      "[16:47:41] WARNING: not removing hydrogen atom without neighbors\n",
      "[16:47:41] WARNING: not removing hydrogen atom without neighbors\n",
      "[16:47:41] WARNING: not removing hydrogen atom without neighbors\n",
      "[16:47:41] WARNING: not removing hydrogen atom without neighbors\n",
      "[16:47:41] WARNING: not removing hydrogen atom without neighbors\n",
      "[16:47:41] WARNING: not removing hydrogen atom without neighbors\n",
      "[16:47:41] WARNING: not removing hydrogen atom without neighbors\n",
      "[16:47:41] WARNING: not removing hydrogen atom without neighbors\n",
      "[16:47:41] WARNING: not removing hydrogen atom without neighbors\n",
      "[16:47:41] WARNING: not removing hydrogen atom without neighbors\n",
      "[16:47:41] WARNING: not removing hydrogen atom without neighbors\n",
      "[16:47:41] WARNING: not removing hydrogen atom without neighbors\n",
      "[16:47:41] WARNING: not removing hydrogen atom without neighbors\n",
      "[16:47:41] WARNING: not removing hydrogen atom without neighbors\n",
      "[16:47:41] WARNING: not removing hydrogen atom without neighbors\n",
      "[16:47:41] WARNING: not removing hydrogen atom without neighbors\n",
      "[16:47:41] WARNING: not removing hydrogen atom without neighbors\n",
      "[16:47:41] WARNING: not removing hydrogen atom without neighbors\n",
      "[16:47:41] WARNING: not removing hydrogen atom without neighbors\n",
      "[16:47:41] WARNING: not removing hydrogen atom without neighbors\n",
      "[16:47:41] WARNING: not removing hydrogen atom without neighbors\n",
      "[16:47:41] WARNING: not removing hydrogen atom without neighbors\n",
      "[16:47:41] WARNING: not removing hydrogen atom without neighbors\n",
      "[16:47:41] WARNING: not removing hydrogen atom without neighbors\n",
      "[16:47:41] WARNING: not removing hydrogen atom without neighbors\n",
      "[16:47:41] WARNING: not removing hydrogen atom without neighbors\n",
      "[16:47:41] WARNING: not removing hydrogen atom without neighbors\n",
      "[16:47:41] WARNING: not removing hydrogen atom without neighbors\n",
      "[16:47:41] WARNING: not removing hydrogen atom without neighbors\n",
      "[16:47:41] WARNING: not removing hydrogen atom without neighbors\n",
      "[16:47:41] WARNING: not removing hydrogen atom without neighbors\n",
      "[16:47:41] WARNING: not removing hydrogen atom without neighbors\n",
      "[16:47:41] WARNING: not removing hydrogen atom without neighbors\n",
      "[16:47:41] WARNING: not removing hydrogen atom without neighbors\n",
      "[16:47:41] WARNING: not removing hydrogen atom without neighbors\n",
      "[16:47:41] WARNING: not removing hydrogen atom without neighbors\n",
      "[16:47:41] WARNING: not removing hydrogen atom without neighbors\n",
      "[16:47:41] WARNING: not removing hydrogen atom without neighbors\n",
      "[16:47:41] WARNING: not removing hydrogen atom without neighbors\n",
      "[16:47:42] WARNING: not removing hydrogen atom without neighbors\n",
      "[16:47:42] WARNING: not removing hydrogen atom without neighbors\n",
      "[16:47:42] WARNING: not removing hydrogen atom without neighbors\n",
      "[16:47:42] WARNING: not removing hydrogen atom without neighbors\n",
      "[16:47:42] WARNING: not removing hydrogen atom without neighbors\n",
      "[16:47:42] WARNING: not removing hydrogen atom without neighbors\n",
      "[16:47:42] WARNING: not removing hydrogen atom without neighbors\n",
      "[16:47:42] WARNING: not removing hydrogen atom without neighbors\n",
      "[16:47:42] WARNING: not removing hydrogen atom without neighbors\n",
      "[16:47:42] WARNING: not removing hydrogen atom without neighbors\n",
      "100%|██████████| 9982/9982 [01:59<00:00, 83.19it/s] \n"
     ]
    }
   ],
   "source": [
    "import numpy as np\n",
    "import pandas as pd\n",
    "from rdkit import Chem\n",
    "from rdkit.Chem import AllChem\n",
    "from rdkit import DataStructs\n",
    "import matplotlib.pyplot as plt\n",
    "from tqdm import tqdm\n",
    "\n",
    "def calculate_tanimoto_similarity(mols):\n",
    "    fps = [AllChem.GetMorganFingerprint(mol, 2) for mol in mols]\n",
    "    return [\n",
    "        DataStructs.BulkTanimotoSimilarity(fp, fps) for fp in tqdm(fps)\n",
    "    ]\n",
    "\n",
    "df = data\n",
    "\n",
    "# Convert SMILES to RDKit molecules\n",
    "df['Molecule'] = df['SMILES'].apply(lambda x: Chem.MolFromSmiles(x))\n",
    "\n",
    "# Calculate Tanimoto similarity matrix\n",
    "molecules = df['Molecule'].tolist()\n",
    "tanimoto_matrix = calculate_tanimoto_similarity(molecules)\n"
   ]
  },
  {
   "cell_type": "code",
   "execution_count": 5,
   "metadata": {},
   "outputs": [],
   "source": [
    "row1 = {\n",
    "    \"similarity\": tanimoto_matrix[0],\n",
    "    \"smiles\": smiles,\n",
    "    \"LogS\": data[\"Solubility\"]\n",
    "}\n",
    "pd.DataFrame(row1)\n",
    "\n",
    "tanimoto_matrix_np = np.array(tanimoto_matrix)"
   ]
  },
  {
   "cell_type": "code",
   "execution_count": 54,
   "metadata": {},
   "outputs": [
    {
     "name": "stderr",
     "output_type": "stream",
     "text": [
      "Calculating similarities: 100%|██████████| 100000/100000 [00:05<00:00, 18401.33it/s]\n"
     ]
    }
   ],
   "source": [
    "# Set random seed for reproducibility\n",
    "# np.random.seed(42)\n",
    "\n",
    "# Randomly sample molecule pairs\n",
    "num_samples = 100000  # Specify the desired number of random pairs\n",
    "random_indices = np.random.choice(range(len(molecules)), size=(num_samples, 2), replace=True)\n",
    "# print(random_indices)\n",
    "\n",
    "# Calculate Tanimoto difference and solubility difference for each pair of molecules\n",
    "num_molecules = len(molecules)\n",
    "tanimoto_diffs = []\n",
    "solubility_diffs = []\n",
    "\n",
    "with tqdm(total=num_samples, desc=\"Calculating similarities\") as pbar:\n",
    "    for idx1, idx2 in random_indices:\n",
    "        tanimoto_diff = 1 - tanimoto_matrix_np[idx1, idx2]\n",
    "        solubility_diff = abs(df.loc[idx1, 'Solubility'] - df.loc[idx2, 'Solubility'])\n",
    "        tanimoto_diffs.append(tanimoto_diff)\n",
    "        solubility_diffs.append(solubility_diff)\n",
    "        pbar.update(1)\n",
    "\n",
    "tanimoto_similarity = pd.DataFrame({\n",
    "    \"TanimotoDiff\": tanimoto_diffs,\n",
    "    \"LogSDiff\": solubility_diffs\n",
    "}).to_csv(\"tanimoto_logs_data.csv\")"
   ]
  },
  {
   "cell_type": "code",
   "execution_count": 55,
   "metadata": {},
   "outputs": [
    {
     "data": {
      "image/png": "[encoded data removed]",
      "text/plain": [
       "<Figure size 640x480 with 1 Axes>"
      ]
     },
     "metadata": {},
     "output_type": "display_data"
    }
   ],
   "source": [
    "tanimoto_diffs = np.array(tanimoto_diffs)\n",
    "solubility_diffs = np.array(solubility_diffs)\n",
    "\n",
    "\n",
    "v = 0.25\n",
    "plt.scatter(tanimoto_diffs[tanimoto_diffs <= v], solubility_diffs[tanimoto_diffs <= v], marker='x', s=10)\n",
    "plt.xlabel(\"Tanimoto Difference\")\n",
    "plt.ylabel(\"Solubility Difference\")\n",
    "plt.xlim(0, v)  # Set x-axis limits\n",
    "plt.ylim(bottom=0)  # Set y-axis limits\n",
    "plt.title(\"Tanimoto Difference vs. Solubility Difference\")\n",
    "plt.show()\n"
   ]
  },
  {
   "cell_type": "code",
   "execution_count": 57,
   "metadata": {},
   "outputs": [
    {
     "data": {
      "text/plain": [
       "[PearsonRResult(statistic=nan, pvalue=nan),\n",
       " PearsonRResult(statistic=nan, pvalue=nan),\n",
       " PearsonRResult(statistic=1.0, pvalue=0.0),\n",
       " PearsonRResult(statistic=1.0, pvalue=0.0),\n",
       " PearsonRResult(statistic=0.9879653388162707, pvalue=2.8804758648939835e-10),\n",
       " PearsonRResult(statistic=0.7752739390396638, pvalue=0.0001570794466431877),\n",
       " PearsonRResult(statistic=0.656893969229456, pvalue=0.00036104950796349435),\n",
       " PearsonRResult(statistic=0.5273824093467293, pvalue=0.001132191461851788),\n",
       " PearsonRResult(statistic=0.4678117649487207, pvalue=0.0007004618811673449),\n",
       " PearsonRResult(statistic=0.36386422523992834, pvalue=0.00045639743683572616),\n",
       " PearsonRResult(statistic=0.28935350135379984, pvalue=0.00019699773166113624),\n",
       " PearsonRResult(statistic=0.22276307912968746, pvalue=0.0001455117674509513),\n",
       " PearsonRResult(statistic=0.17180684724825224, pvalue=5.5379911817932925e-05),\n",
       " PearsonRResult(statistic=0.13844153452382674, pvalue=3.777777108217237e-06),\n",
       " PearsonRResult(statistic=0.11275738731052497, pvalue=1.4371010789471993e-08),\n",
       " PearsonRResult(statistic=0.10710704077625183, pvalue=1.2934077331226696e-16),\n",
       " PearsonRResult(statistic=0.10821738069312274, pvalue=3.7645748786395913e-38),\n",
       " PearsonRResult(statistic=0.11695006416110537, pvalue=2.7402193900998203e-93),\n",
       " PearsonRResult(statistic=0.12265938418013143, pvalue=2.914497411959761e-185),\n",
       " PearsonRResult(statistic=0.16943862151948594, pvalue=0.0)]"
      ]
     },
     "execution_count": 57,
     "metadata": {},
     "output_type": "execute_result"
    }
   ],
   "source": [
    "from scipy.stats import pearsonr\n",
    "\n",
    "[pearsonr(tanimoto_diffs[tanimoto_diffs <= v], solubility_diffs[tanimoto_diffs <= v]) for v in [0.05 * n for n in range(1, 21)]]\n"
   ]
  },
  {
   "cell_type": "code",
   "execution_count": 22,
   "metadata": {},
   "outputs": [
    {
     "name": "stderr",
     "output_type": "stream",
     "text": [
      "[21:24:39] WARNING: not removing hydrogen atom without neighbors\n",
      "[21:24:39] WARNING: not removing hydrogen atom without neighbors\n",
      "[21:24:39] WARNING: not removing hydrogen atom without neighbors\n",
      "[21:24:39] WARNING: not removing hydrogen atom without neighbors\n",
      "[21:24:39] WARNING: not removing hydrogen atom without neighbors\n",
      "[21:24:39] WARNING: not removing hydrogen atom without neighbors\n",
      "[21:24:39] WARNING: not removing hydrogen atom without neighbors\n",
      "[21:24:39] WARNING: not removing hydrogen atom without neighbors\n",
      "[21:24:39] WARNING: not removing hydrogen atom without neighbors\n",
      "[21:24:39] WARNING: not removing hydrogen atom without neighbors\n",
      "[21:24:39] WARNING: not removing hydrogen atom without neighbors\n",
      "[21:24:39] WARNING: not removing hydrogen atom without neighbors\n",
      "[21:24:39] WARNING: not removing hydrogen atom without neighbors\n",
      "[21:24:39] WARNING: not removing hydrogen atom without neighbors\n",
      "[21:24:39] WARNING: not removing hydrogen atom without neighbors\n",
      "[21:24:39] WARNING: not removing hydrogen atom without neighbors\n",
      "[21:24:39] WARNING: not removing hydrogen atom without neighbors\n",
      "[21:24:39] WARNING: not removing hydrogen atom without neighbors\n",
      "[21:24:39] WARNING: not removing hydrogen atom without neighbors\n",
      "[21:24:39] WARNING: not removing hydrogen atom without neighbors\n",
      "[21:24:39] WARNING: not removing hydrogen atom without neighbors\n",
      "[21:24:39] WARNING: not removing hydrogen atom without neighbors\n",
      "[21:24:39] WARNING: not removing hydrogen atom without neighbors\n",
      "[21:24:39] WARNING: not removing hydrogen atom without neighbors\n",
      "[21:24:39] WARNING: not removing hydrogen atom without neighbors\n",
      "[21:24:39] WARNING: not removing hydrogen atom without neighbors\n",
      "[21:24:39] WARNING: not removing hydrogen atom without neighbors\n",
      "[21:24:39] WARNING: not removing hydrogen atom without neighbors\n",
      "[21:24:40] WARNING: not removing hydrogen atom without neighbors\n",
      "[21:24:40] WARNING: not removing hydrogen atom without neighbors\n",
      "[21:24:40] WARNING: not removing hydrogen atom without neighbors\n",
      "[21:24:40] WARNING: not removing hydrogen atom without neighbors\n",
      "[21:24:40] WARNING: not removing hydrogen atom without neighbors\n",
      "[21:24:40] WARNING: not removing hydrogen atom without neighbors\n",
      "[21:24:40] WARNING: not removing hydrogen atom without neighbors\n",
      "[21:24:40] WARNING: not removing hydrogen atom without neighbors\n",
      "[21:24:40] WARNING: not removing hydrogen atom without neighbors\n",
      "[21:24:40] WARNING: not removing hydrogen atom without neighbors\n",
      "[21:24:40] WARNING: not removing hydrogen atom without neighbors\n",
      "[21:24:40] WARNING: not removing hydrogen atom without neighbors\n",
      "[21:24:40] WARNING: not removing hydrogen atom without neighbors\n",
      "[21:24:40] WARNING: not removing hydrogen atom without neighbors\n",
      "[21:24:40] WARNING: not removing hydrogen atom without neighbors\n",
      "[21:24:40] WARNING: not removing hydrogen atom without neighbors\n",
      "[21:24:40] WARNING: not removing hydrogen atom without neighbors\n",
      "[21:24:40] WARNING: not removing hydrogen atom without neighbors\n",
      "[21:24:40] WARNING: not removing hydrogen atom without neighbors\n",
      "[21:24:40] WARNING: not removing hydrogen atom without neighbors\n",
      "[21:24:40] WARNING: not removing hydrogen atom without neighbors\n",
      "[21:24:40] WARNING: not removing hydrogen atom without neighbors\n",
      "[21:24:40] WARNING: not removing hydrogen atom without neighbors\n",
      "[21:24:40] WARNING: not removing hydrogen atom without neighbors\n",
      "[21:24:40] WARNING: not removing hydrogen atom without neighbors\n",
      "[21:24:40] WARNING: not removing hydrogen atom without neighbors\n",
      "[21:24:41] WARNING: not removing hydrogen atom without neighbors\n",
      "[21:24:41] WARNING: not removing hydrogen atom without neighbors\n",
      "[21:24:41] WARNING: not removing hydrogen atom without neighbors\n",
      "[21:24:41] WARNING: not removing hydrogen atom without neighbors\n",
      "[21:24:41] WARNING: not removing hydrogen atom without neighbors\n",
      "[21:24:41] WARNING: not removing hydrogen atom without neighbors\n",
      "100%|██████████| 998/998 [00:10<00:00, 99.71it/s] \n"
     ]
    }
   ],
   "source": [
    "import pandas as pd\n",
    "import numpy as np\n",
    "from rdkit import Chem\n",
    "from rdkit.Chem import AllChem\n",
    "from rdkit import DataStructs\n",
    "import matplotlib.pyplot as plt\n",
    "from tqdm import tqdm\n",
    "\n",
    "\n",
    "train = pd.read_csv(\"../data/train.csv\")\n",
    "train[\"molecules\"] = train['SMILES'].apply(lambda x: Chem.MolFromSmiles(x))\n",
    "train[\"fingerprint\"] = train[\"molecules\"].apply(lambda m: AllChem.GetMorganFingerprint(m, 2))\n",
    "\n",
    "validation = pd.read_csv(\"../data/validation.csv\")\n",
    "validation[\"molecules\"] = validation['SMILES'].apply(lambda x: Chem.MolFromSmiles(x))\n",
    "validation[\"fingerprint\"] = validation[\"molecules\"].apply(lambda m: AllChem.GetMorganFingerprint(m, 2))\n",
    "\n",
    "\n",
    "def get_similarities(fp, fps):\n",
    "    # fp = AllChem.GetMorganFingerprint(mol, 2)\n",
    "    # fps = [AllChem.GetMorganFingerprint(m, 2) for m in mols]\n",
    "    # print(fp, fps)\n",
    "    return DataStructs.BulkTanimotoSimilarity(fp, fps)\n",
    "\n",
    "train_fps = list(train[\"fingerprint\"])\n",
    "validation_fps = list(validation[\"fingerprint\"])\n",
    "sim = np.zeros((len(validation), len(train)))\n",
    "\n",
    "for i in tqdm(range(len(validation)), total=len(validation)):\n",
    "    sim[i] = np.array(get_similarities(validation_fps[i], train_fps))\n"
   ]
  },
  {
   "cell_type": "code",
   "execution_count": 25,
   "metadata": {},
   "outputs": [],
   "source": [
    "# for i in tqdm(range(len(sim))):\n",
    "#     sim[i, np.argsort(sim, axis=1)[i]][-100:]\n",
    "\n",
    "query = \"N1N=CC=CC2=CC=CC=C12\"\n",
    "q_sims = np.array(get_similarities(\n",
    "    AllChem.GetMorganFingerprint(Chem.MolFromSmiles(query), 2),\n",
    "    train_fps\n",
    "))\n",
    "\n",
    "train[['SMILES', 'logS']].iloc[np.argsort(q_sims)[-100:]].to_csv(\"../data/temp_dataset.csv\", index=False, )"
   ]
  }
 ],
 "metadata": {
  "kernelspec": {
   "display_name": "gnndd",
   "language": "python",
   "name": "python3"
  },
  "language_info": {
   "codemirror_mode": {
    "name": "ipython",
    "version": 3
   },
   "file_extension": ".py",
   "mimetype": "text/x-python",
   "name": "python",
   "nbconvert_exporter": "python",
   "pygments_lexer": "ipython3",
   "version": "3.8.16"
  },
  "orig_nbformat": 4
 },
 "nbformat": 4,
 "nbformat_minor": 2
}
